{
 "cells": [
  {
   "cell_type": "markdown",
   "metadata": {},
   "source": [
    "# Task summary"
   ]
  },
  {
   "cell_type": "markdown",
   "metadata": {},
   "source": [
    "1. Load e-mails data to dataframe\n",
    "2. Data analysis & preparation for classification\n",
    "3. Classification"
   ]
  },
  {
   "cell_type": "markdown",
   "metadata": {},
   "source": [
    "## 1. Loading data & preprocessing"
   ]
  },
  {
   "cell_type": "code",
   "execution_count": 1,
   "metadata": {},
   "outputs": [],
   "source": [
    "import os, string\n",
    "import pandas as pd\n",
    "import numpy as np"
   ]
  },
  {
   "cell_type": "code",
   "execution_count": 2,
   "metadata": {},
   "outputs": [],
   "source": [
    "directory=\"D:\\Download\\Trainingsmails_Anonym\"\n",
    "del_ = str.maketrans(\"\",\"\", string.punctuation) # for deleting punctuation\n",
    "del_galki=str.maketrans(\"\",\"\", \"<>\") # for deleting <> in email addresses\n",
    "NEWLINE=\"\\n\""
   ]
  },
  {
   "cell_type": "code",
   "execution_count": 3,
   "metadata": {},
   "outputs": [],
   "source": [
    "def to_base(tree):# makes dataframe from e-mail From, Subject & body w/o punctuation. only for .eml format, ignores errors in coding\n",
    "    base=pd.DataFrame(columns=[\"Text\", \"Label\"])\n",
    "    for address, _, file in tree:\n",
    "        for ff in file: \n",
    "            if not ff.endswith(\".eml\"):\n",
    "                continue\n",
    "            path = os.path.join(address,ff)\n",
    "            with open(path, \"r\", errors='ignore', encoding=\"utf-8\") as f:\n",
    "                pased_header, lines=False, []\n",
    "                for line in f:\n",
    "                    if line.startswith(\"From:\"):\n",
    "                        line=line.replace(\"From: \", \"\").lower().translate(del_galki).replace(\"\\n\", \"\")\n",
    "                        lines.append(line)\n",
    "                    if line.startswith(\"Subject:\"):\n",
    "                        line=line.replace(\"Subject: \", \"\").lower().translate(del_).replace(\"\\n\", \"\").translate(del_galki) \n",
    "                        lines.append(line)\n",
    "                    if pased_header:\n",
    "                        line=line.lower().translate(del_).replace(\"\\n\", \"\").translate(del_galki)\n",
    "                        lines.append(line)\n",
    "                    elif line==NEWLINE:\n",
    "                        pased_header=True\n",
    "            content=NEWLINE.join(lines)            \n",
    "            label=address.split(\"\\\\\")[-1]\n",
    "            row=pd.DataFrame({\"Text\":[content], \"Label\": [label]})\n",
    "            base=base.append(row, ignore_index=True)\n",
    "    return base"
   ]
  },
  {
   "cell_type": "code",
   "execution_count": 4,
   "metadata": {},
   "outputs": [],
   "source": [
    "def to_base(tree): # makes dataframe with features w/o <> and punctuation. only for .eml format, ignores errors in coding\n",
    "    base=pd.DataFrame(columns=[\"Text\", \"Label\"])\n",
    "    for address, _, file in tree: \n",
    "        for ff in file: \n",
    "            if not ff.endswith(\".eml\"):\n",
    "                continue\n",
    "            path = os.path.join(address,ff)\n",
    "            with open(path, \"r\", errors='ignore', encoding=\"utf8\") as f:\n",
    "                text=[]\n",
    "                for line in f:\n",
    "                    if line.startswith(\"From:\"):\n",
    "                        line=line.replace(\"From: \", \"\").lower().translate(del_galki).replace(\"\\n\", \"\") \n",
    "                        lines=line +\" \"\n",
    "                    if line.startswith(\"Subject:\"):\n",
    "                        line=line.replace(\"Subject: \", \"\").lower().translate(del_).replace(\"\\n\", \"\").translate(del_galki)  \n",
    "                        lines=lines + line\n",
    "                        text.append(lines)            \n",
    "            label=address.split(\"\\\\\")[-1]\n",
    "            row=pd.DataFrame({\"Text\":text, \"Label\": label})\n",
    "            base=base.append(row, ignore_index=True)\n",
    "    return base"
   ]
  },
  {
   "cell_type": "code",
   "execution_count": 5,
   "metadata": {},
   "outputs": [
    {
     "data": {
      "text/html": [
       "<div>\n",
       "<style scoped>\n",
       "    .dataframe tbody tr th:only-of-type {\n",
       "        vertical-align: middle;\n",
       "    }\n",
       "\n",
       "    .dataframe tbody tr th {\n",
       "        vertical-align: top;\n",
       "    }\n",
       "\n",
       "    .dataframe thead th {\n",
       "        text-align: right;\n",
       "    }\n",
       "</style>\n",
       "<table border=\"1\" class=\"dataframe\">\n",
       "  <thead>\n",
       "    <tr style=\"text-align: right;\">\n",
       "      <th></th>\n",
       "      <th>Text</th>\n",
       "      <th>Label</th>\n",
       "    </tr>\n",
       "  </thead>\n",
       "  <tbody>\n",
       "    <tr>\n",
       "      <th>0</th>\n",
       "      <td>amazon.de promotion5@amazon.de hund hündin hos...</td>\n",
       "      <td>Amazon - diverse</td>\n",
       "    </tr>\n",
       "    <tr>\n",
       "      <th>1</th>\n",
       "      <td>amazon.de promotion5@amazon.de milestone baby ...</td>\n",
       "      <td>Amazon - diverse</td>\n",
       "    </tr>\n",
       "    <tr>\n",
       "      <th>2</th>\n",
       "      <td>amazon.de promotion5@amazon.de amazonde empfie...</td>\n",
       "      <td>Amazon - diverse</td>\n",
       "    </tr>\n",
       "    <tr>\n",
       "      <th>3</th>\n",
       "      <td>amazon.de promotion5@amazon.de amazonde empfie...</td>\n",
       "      <td>Amazon - diverse</td>\n",
       "    </tr>\n",
       "    <tr>\n",
       "      <th>4</th>\n",
       "      <td>amazon.de promotion5@amazon.de amazonde empfie...</td>\n",
       "      <td>Amazon - diverse</td>\n",
       "    </tr>\n",
       "  </tbody>\n",
       "</table>\n",
       "</div>"
      ],
      "text/plain": [
       "                                                Text             Label\n",
       "0  amazon.de promotion5@amazon.de hund hündin hos...  Amazon - diverse\n",
       "1  amazon.de promotion5@amazon.de milestone baby ...  Amazon - diverse\n",
       "2  amazon.de promotion5@amazon.de amazonde empfie...  Amazon - diverse\n",
       "3  amazon.de promotion5@amazon.de amazonde empfie...  Amazon - diverse\n",
       "4  amazon.de promotion5@amazon.de amazonde empfie...  Amazon - diverse"
      ]
     },
     "execution_count": 5,
     "metadata": {},
     "output_type": "execute_result"
    }
   ],
   "source": [
    "tree=os.walk(directory)\n",
    "base=to_base(tree)\n",
    "base.head()"
   ]
  },
  {
   "cell_type": "markdown",
   "metadata": {},
   "source": [
    "### Questions: "
   ]
  },
  {
   "cell_type": "markdown",
   "metadata": {},
   "source": [
    "- other common approaches to deal with text? Process punctuation, numbers, special symbols like <>, etc?"
   ]
  },
  {
   "cell_type": "markdown",
   "metadata": {},
   "source": [
    "## 2. Data analysis & preparation for classification"
   ]
  },
  {
   "cell_type": "code",
   "execution_count": 6,
   "metadata": {},
   "outputs": [],
   "source": [
    "from sklearn.feature_extraction.text import CountVectorizer\n",
    "from collections import Counter\n",
    "from matplotlib import pyplot as plt\n",
    "from sklearn.linear_model import LogisticRegression"
   ]
  },
  {
   "cell_type": "code",
   "execution_count": 7,
   "metadata": {},
   "outputs": [],
   "source": [
    "y=base[\"Label\"]\n",
    "X=base[\"Text\"]"
   ]
  },
  {
   "cell_type": "code",
   "execution_count": 8,
   "metadata": {},
   "outputs": [],
   "source": [
    "# coding labels\n",
    "feature_codes=zip( [i for i in range(0,16)], y.unique())\n",
    "feature_codes={j: i for i,j in feature_codes} #dictionary folder: number\n",
    "y=list(map(lambda i: feature_codes[i],y))"
   ]
  },
  {
   "cell_type": "code",
   "execution_count": 9,
   "metadata": {},
   "outputs": [
    {
     "data": {
      "text/plain": [
       "<Container object of 16 artists>"
      ]
     },
     "execution_count": 9,
     "metadata": {},
     "output_type": "execute_result"
    },
    {
     "data": {
      "image/png": "[encoded data removed]",
      "text/plain": [
       "<matplotlib.figure.Figure at 0xb543240>"
      ]
     },
     "metadata": {},
     "output_type": "display_data"
    }
   ],
   "source": [
    "#highly imbalanced data set,gonna use oversampling later\n",
    "plt.figure(figsize=(20,6))\n",
    "plt.bar(Counter(y).keys(), Counter(y).values())\n"
   ]
  },
  {
   "cell_type": "code",
   "execution_count": 10,
   "metadata": {},
   "outputs": [],
   "source": [
    "from sklearn.feature_extraction.text import CountVectorizer\n",
    "from sklearn.model_selection import StratifiedShuffleSplit, StratifiedKFold, cross_val_score, train_test_split\n",
    "from sklearn import metrics"
   ]
  },
  {
   "cell_type": "code",
   "execution_count": 11,
   "metadata": {},
   "outputs": [],
   "source": [
    "# fix warnings as f1 score is ill-defines for small classes \n",
    "import warnings\n",
    "warnings.filterwarnings('ignore')  # \"error\", \"ignore\", \"always\", \"default\", \"module\" or \"once\""
   ]
  },
  {
   "cell_type": "code",
   "execution_count": 13,
   "metadata": {},
   "outputs": [
    {
     "data": {
      "text/html": [
       "<div>\n",
       "<style scoped>\n",
       "    .dataframe tbody tr th:only-of-type {\n",
       "        vertical-align: middle;\n",
       "    }\n",
       "\n",
       "    .dataframe tbody tr th {\n",
       "        vertical-align: top;\n",
       "    }\n",
       "\n",
       "    .dataframe thead th {\n",
       "        text-align: right;\n",
       "    }\n",
       "</style>\n",
       "<table border=\"1\" class=\"dataframe\">\n",
       "  <thead>\n",
       "    <tr style=\"text-align: right;\">\n",
       "      <th></th>\n",
       "      <th>max</th>\n",
       "      <th>min</th>\n",
       "      <th>cv_f1_score</th>\n",
       "    </tr>\n",
       "  </thead>\n",
       "  <tbody>\n",
       "    <tr>\n",
       "      <th>0</th>\n",
       "      <td>700</td>\n",
       "      <td>5</td>\n",
       "      <td>0.882017</td>\n",
       "    </tr>\n",
       "    <tr>\n",
       "      <th>1</th>\n",
       "      <td>800</td>\n",
       "      <td>5</td>\n",
       "      <td>0.879344</td>\n",
       "    </tr>\n",
       "    <tr>\n",
       "      <th>2</th>\n",
       "      <td>650</td>\n",
       "      <td>5</td>\n",
       "      <td>0.878730</td>\n",
       "    </tr>\n",
       "    <tr>\n",
       "      <th>3</th>\n",
       "      <td>600</td>\n",
       "      <td>5</td>\n",
       "      <td>0.871321</td>\n",
       "    </tr>\n",
       "    <tr>\n",
       "      <th>4</th>\n",
       "      <td>600</td>\n",
       "      <td>10</td>\n",
       "      <td>0.852939</td>\n",
       "    </tr>\n",
       "    <tr>\n",
       "      <th>5</th>\n",
       "      <td>650</td>\n",
       "      <td>10</td>\n",
       "      <td>0.845998</td>\n",
       "    </tr>\n",
       "    <tr>\n",
       "      <th>6</th>\n",
       "      <td>700</td>\n",
       "      <td>10</td>\n",
       "      <td>0.845881</td>\n",
       "    </tr>\n",
       "    <tr>\n",
       "      <th>7</th>\n",
       "      <td>800</td>\n",
       "      <td>10</td>\n",
       "      <td>0.843751</td>\n",
       "    </tr>\n",
       "  </tbody>\n",
       "</table>\n",
       "</div>"
      ],
      "text/plain": [
       "   max min  cv_f1_score\n",
       "0  700   5     0.882017\n",
       "1  800   5     0.879344\n",
       "2  650   5     0.878730\n",
       "3  600   5     0.871321\n",
       "4  600  10     0.852939\n",
       "5  650  10     0.845998\n",
       "6  700  10     0.845881\n",
       "7  800  10     0.843751"
      ]
     },
     "execution_count": 13,
     "metadata": {},
     "output_type": "execute_result"
    }
   ],
   "source": [
    "# looking for optimal words frequency to form a dictionary( define rare and buzz-words). I used all the base. Is it correct?\n",
    "\n",
    "f1_scorer=metrics.make_scorer(metrics.f1_score, average=\"weighted\" )\n",
    "result=pd.DataFrame(columns=[\"max\", \"min\", \"cv_f1_score\"])\n",
    "max_df= [  600, 650, 700, 800]\n",
    "min_df= [ 5, 10]\n",
    "for i in max_df:\n",
    "    for j in min_df:\n",
    "        vectorizer = CountVectorizer(max_df=i, min_df=j)\n",
    "        vectorizer.fit(X)\n",
    "        clf= LogisticRegression()\n",
    "        clf.fit(vectorizer.transform(X), y)\n",
    "        cvs=cross_val_score(clf, vectorizer.transform(X), y, \n",
    "                            cv=list(StratifiedShuffleSplit(test_size=0.3).split(X,y)), \n",
    "                            scoring=f1_scorer,\n",
    "                           n_jobs=-1)\n",
    "        row=pd.DataFrame([[i, j, cvs.mean()]],columns=[\"max\", \"min\", \"cv_f1_score\"] )\n",
    "        result=result.append(row, ignore_index=True)\n",
    "result=result.sort_values(\"cv_f1_score\", ascending=False).reset_index(drop=True)\n",
    "result"
   ]
  },
  {
   "cell_type": "code",
   "execution_count": 99,
   "metadata": {},
   "outputs": [
    {
     "data": {
      "text/html": [
       "<div>\n",
       "<style scoped>\n",
       "    .dataframe tbody tr th:only-of-type {\n",
       "        vertical-align: middle;\n",
       "    }\n",
       "\n",
       "    .dataframe tbody tr th {\n",
       "        vertical-align: top;\n",
       "    }\n",
       "\n",
       "    .dataframe thead th {\n",
       "        text-align: right;\n",
       "    }\n",
       "</style>\n",
       "<table border=\"1\" class=\"dataframe\">\n",
       "  <thead>\n",
       "    <tr style=\"text-align: right;\">\n",
       "      <th></th>\n",
       "      <th>ngram</th>\n",
       "      <th>cv_f1_score</th>\n",
       "    </tr>\n",
       "  </thead>\n",
       "  <tbody>\n",
       "    <tr>\n",
       "      <th>0</th>\n",
       "      <td>(1, 2)</td>\n",
       "      <td>0.958407</td>\n",
       "    </tr>\n",
       "    <tr>\n",
       "      <th>1</th>\n",
       "      <td>(1, 3)</td>\n",
       "      <td>0.957961</td>\n",
       "    </tr>\n",
       "  </tbody>\n",
       "</table>\n",
       "</div>"
      ],
      "text/plain": [
       "    ngram  cv_f1_score\n",
       "0  (1, 2)     0.958407\n",
       "1  (1, 3)     0.957961"
      ]
     },
     "execution_count": 99,
     "metadata": {},
     "output_type": "execute_result"
    }
   ],
   "source": [
    "#I continue with 10<words frequency <650 and check if n_gram improves result. Seems like not really\n",
    "result1=pd.DataFrame(columns=[ \"ngram\", \"cv_f1_score\"])\n",
    "ngram= [ (1,2), (1,3)]\n",
    "for i in ngram:\n",
    "    vectorizer = CountVectorizer(max_df=650, min_df=10, ngram_range=i)\n",
    "    vectorizer.fit(X)\n",
    "    clf= LogisticRegression()\n",
    "    clf.fit(vectorizer.transform(X), y)\n",
    "    cvs=cross_val_score(clf, vectorizer.transform(X), y, \n",
    "                            cv=list(StratifiedShuffleSplit(test_size=0.3).split(X,y)), \n",
    "                            scoring=f1_scorer,\n",
    "                           n_jobs=-1)\n",
    "    row=pd.DataFrame([[i, cvs.mean()]],columns=[ \"ngram\", \"cv_f1_score\"] )\n",
    "    result1=result1.append(row, ignore_index=True)\n",
    "result1=result1.sort_values(\"cv_f1_score\", ascending=False).reset_index(drop=True)\n",
    "result1"
   ]
  },
  {
   "cell_type": "code",
   "execution_count": 14,
   "metadata": {},
   "outputs": [],
   "source": [
    "# transform text features to a matrix of tokened counts with 10<words frequency <650\n",
    "vectorizer=CountVectorizer(max_df=700, min_df=5)\n",
    "vectorizer.fit(X)\n",
    "X_vect=vectorizer.transform(X)"
   ]
  },
  {
   "cell_type": "code",
   "execution_count": 15,
   "metadata": {},
   "outputs": [],
   "source": [
    "# oversample process \n",
    "from imblearn.over_sampling import RandomOverSampler\n",
    "ros=RandomOverSampler()\n",
    "X_res, y_res = ros.fit_sample(X_vect,y)"
   ]
  },
  {
   "cell_type": "code",
   "execution_count": 16,
   "metadata": {},
   "outputs": [
    {
     "data": {
      "text/plain": [
       "dict_items([(0, 305), (1, 305), (2, 305), (3, 305), (4, 305), (5, 305), (6, 305), (7, 305), (8, 305), (9, 305), (10, 305), (11, 305), (12, 305), (13, 305), (14, 305), (15, 305)])"
      ]
     },
     "execution_count": 16,
     "metadata": {},
     "output_type": "execute_result"
    }
   ],
   "source": [
    "Counter(y_res).items()"
   ]
  },
  {
   "cell_type": "code",
   "execution_count": 17,
   "metadata": {},
   "outputs": [],
   "source": [
    "# prepate train & test samples for resampled data\n",
    "X_train, X_test, y_train, y_test=train_test_split(X_res, y_res, \n",
    "                                                  test_size=0.2, \n",
    "                                                  shuffle=True)"
   ]
  },
  {
   "cell_type": "code",
   "execution_count": 18,
   "metadata": {},
   "outputs": [],
   "source": [
    "#  train & test samples for initial data w/o resampling\n",
    "X_train_, X_test_, y_train_, y_test_=train_test_split(X_vect, y, \n",
    "                                                  test_size=0.2, \n",
    "                                                  shuffle=True)"
   ]
  },
  {
   "cell_type": "markdown",
   "metadata": {},
   "source": [
    "### Questions"
   ]
  },
  {
   "cell_type": "markdown",
   "metadata": {},
   "source": [
    "- other ways to create dictionary?\n",
    "- common approach to text oversampling?"
   ]
  },
  {
   "cell_type": "markdown",
   "metadata": {},
   "source": [
    "## 3. Classification"
   ]
  },
  {
   "cell_type": "code",
   "execution_count": 112,
   "metadata": {},
   "outputs": [],
   "source": [
    "from sklearn.linear_model import LogisticRegression"
   ]
  },
  {
   "cell_type": "code",
   "execution_count": 19,
   "metadata": {},
   "outputs": [],
   "source": [
    "scorer=metrics.make_scorer(metrics.f1_score, average=\"weighted\")\n",
    "clf=LogisticRegression(multi_class=\"multinomial\", solver=\"lbfgs\")\n",
    "cvs=cross_val_score(clf, X_train, y_train, cv=5, scoring=scorer, n_jobs=-1 )"
   ]
  },
  {
   "cell_type": "code",
   "execution_count": 20,
   "metadata": {},
   "outputs": [
    {
     "data": {
      "text/plain": [
       "0.9604255873620356"
      ]
     },
     "execution_count": 20,
     "metadata": {},
     "output_type": "execute_result"
    }
   ],
   "source": [
    "# high result on cross validation\n",
    "cvs.mean()"
   ]
  },
  {
   "cell_type": "code",
   "execution_count": 21,
   "metadata": {},
   "outputs": [
    {
     "data": {
      "text/plain": [
       "LogisticRegression(C=1.0, class_weight=None, dual=False, fit_intercept=True,\n",
       "          intercept_scaling=1, max_iter=100, multi_class='multinomial',\n",
       "          n_jobs=1, penalty='l2', random_state=None, solver='lbfgs',\n",
       "          tol=0.0001, verbose=0, warm_start=False)"
      ]
     },
     "execution_count": 21,
     "metadata": {},
     "output_type": "execute_result"
    }
   ],
   "source": [
    "clf.fit(X_train, y_train)"
   ]
  },
  {
   "cell_type": "code",
   "execution_count": 22,
   "metadata": {},
   "outputs": [
    {
     "name": "stdout",
     "output_type": "stream",
     "text": [
      "             precision    recall  f1-score   support\n",
      "\n",
      "          0       1.00      0.82      0.90        17\n",
      "          1       0.97      1.00      0.98        61\n",
      "          2       0.92      0.97      0.94        35\n",
      "          3       0.90      0.77      0.83        35\n",
      "          4       1.00      1.00      1.00         3\n",
      "          5       1.00      1.00      1.00         1\n",
      "          6       0.93      1.00      0.96        26\n",
      "          7       0.90      1.00      0.95        18\n",
      "         10       0.86      0.90      0.88        40\n",
      "         11       1.00      1.00      1.00        10\n",
      "         12       1.00      1.00      1.00         3\n",
      "         13       1.00      1.00      1.00         7\n",
      "         14       1.00      1.00      1.00        24\n",
      "         15       1.00      0.71      0.83         7\n",
      "\n",
      "avg / total       0.94      0.94      0.94       287\n",
      "\n"
     ]
    }
   ],
   "source": [
    "# the same result on test sample\n",
    "print(metrics.classification_report(clf.predict(X_test_), y_test_))"
   ]
  },
  {
   "cell_type": "code",
   "execution_count": 23,
   "metadata": {},
   "outputs": [],
   "source": [
    "# try to improve model with grid search \n",
    "from sklearn.model_selection import GridSearchCV"
   ]
  },
  {
   "cell_type": "code",
   "execution_count": 24,
   "metadata": {},
   "outputs": [
    {
     "data": {
      "text/plain": [
       "GridSearchCV(cv=5, error_score='raise',\n",
       "       estimator=LogisticRegression(C=1.0, class_weight=None, dual=False, fit_intercept=True,\n",
       "          intercept_scaling=1, max_iter=100, multi_class='ovr', n_jobs=1,\n",
       "          penalty='l2', random_state=None, solver='liblinear', tol=0.0001,\n",
       "          verbose=0, warm_start=False),\n",
       "       fit_params=None, iid=True, n_jobs=-1,\n",
       "       param_grid={'C': [0.5, 1, 2], 'solver': ['lbfgs', 'newton-cg', 'liblinear', 'sag']},\n",
       "       pre_dispatch='2*n_jobs', refit=True, return_train_score=False,\n",
       "       scoring=make_scorer(f1_score, average=weighted), verbose=0)"
      ]
     },
     "execution_count": 24,
     "metadata": {},
     "output_type": "execute_result"
    }
   ],
   "source": [
    "params={\"C\": [0.5, 1, 2],\n",
    "        \"solver\": [\"lbfgs\", \"newton-cg\", \"liblinear\", \"sag\"]\n",
    "    \n",
    "}\n",
    "grid=GridSearchCV(LogisticRegression(), param_grid=params, cv=5, scoring=scorer, n_jobs=-1, return_train_score=False)\n",
    "grid.fit(X_train, y_train)"
   ]
  },
  {
   "cell_type": "code",
   "execution_count": 25,
   "metadata": {},
   "outputs": [
    {
     "data": {
      "text/plain": [
       "{'C': 2, 'solver': 'lbfgs'}"
      ]
     },
     "execution_count": 25,
     "metadata": {},
     "output_type": "execute_result"
    }
   ],
   "source": [
    "grid.best_params_"
   ]
  },
  {
   "cell_type": "code",
   "execution_count": 26,
   "metadata": {},
   "outputs": [
    {
     "data": {
      "text/plain": [
       "0.9609098079903614"
      ]
     },
     "execution_count": 26,
     "metadata": {},
     "output_type": "execute_result"
    }
   ],
   "source": [
    "grid.best_score_"
   ]
  },
  {
   "cell_type": "code",
   "execution_count": 27,
   "metadata": {},
   "outputs": [
    {
     "name": "stdout",
     "output_type": "stream",
     "text": [
      "             precision    recall  f1-score   support\n",
      "\n",
      "          0       1.00      0.88      0.93        16\n",
      "          1       0.97      1.00      0.98        61\n",
      "          2       0.92      0.97      0.94        35\n",
      "          3       0.90      0.77      0.83        35\n",
      "          4       1.00      1.00      1.00         3\n",
      "          5       1.00      1.00      1.00         1\n",
      "          6       0.96      1.00      0.98        27\n",
      "          7       0.95      1.00      0.97        19\n",
      "         10       0.83      0.92      0.88        38\n",
      "         11       1.00      0.91      0.95        11\n",
      "         12       1.00      1.00      1.00         3\n",
      "         13       1.00      1.00      1.00         7\n",
      "         14       1.00      1.00      1.00        24\n",
      "         15       1.00      0.71      0.83         7\n",
      "\n",
      "avg / total       0.94      0.94      0.94       287\n",
      "\n"
     ]
    }
   ],
   "source": [
    "print(metrics.classification_report(grid.best_estimator_.predict(X_test_), y_test_))"
   ]
  },
  {
   "cell_type": "code",
   "execution_count": 28,
   "metadata": {},
   "outputs": [
    {
     "data": {
      "text/plain": [
       "{'mean_fit_time': array([0.38342185, 1.10926347, 0.20201159, 3.47319865, 0.55843191,\n",
       "        1.18446784, 0.17380991, 3.74181395, 0.59523411, 1.40148001,\n",
       "        0.2502142 , 3.29898868]),\n",
       " 'mean_score_time': array([0.00160012, 0.00180001, 0.00180016, 0.00160007, 0.00180011,\n",
       "        0.00180001, 0.00180011, 0.00160012, 0.00160003, 0.00220027,\n",
       "        0.00140009, 0.00180011]),\n",
       " 'mean_test_score': array([0.95361322, 0.95361322, 0.95286165, 0.95319213, 0.95696128,\n",
       "        0.95696128, 0.95697648, 0.95723753, 0.96090981, 0.96090981,\n",
       "        0.9605923 , 0.95859416]),\n",
       " 'param_C': masked_array(data=[0.5, 0.5, 0.5, 0.5, 1, 1, 1, 1, 2, 2, 2, 2],\n",
       "              mask=[False, False, False, False, False, False, False, False,\n",
       "                    False, False, False, False],\n",
       "        fill_value='?',\n",
       "             dtype=object),\n",
       " 'param_solver': masked_array(data=['lbfgs', 'newton-cg', 'liblinear', 'sag', 'lbfgs',\n",
       "                    'newton-cg', 'liblinear', 'sag', 'lbfgs', 'newton-cg',\n",
       "                    'liblinear', 'sag'],\n",
       "              mask=[False, False, False, False, False, False, False, False,\n",
       "                    False, False, False, False],\n",
       "        fill_value='?',\n",
       "             dtype=object),\n",
       " 'params': [{'C': 0.5, 'solver': 'lbfgs'},\n",
       "  {'C': 0.5, 'solver': 'newton-cg'},\n",
       "  {'C': 0.5, 'solver': 'liblinear'},\n",
       "  {'C': 0.5, 'solver': 'sag'},\n",
       "  {'C': 1, 'solver': 'lbfgs'},\n",
       "  {'C': 1, 'solver': 'newton-cg'},\n",
       "  {'C': 1, 'solver': 'liblinear'},\n",
       "  {'C': 1, 'solver': 'sag'},\n",
       "  {'C': 2, 'solver': 'lbfgs'},\n",
       "  {'C': 2, 'solver': 'newton-cg'},\n",
       "  {'C': 2, 'solver': 'liblinear'},\n",
       "  {'C': 2, 'solver': 'sag'}],\n",
       " 'rank_test_score': array([ 9,  9, 12, 11,  7,  7,  6,  5,  1,  1,  3,  4]),\n",
       " 'split0_test_score': array([0.95446373, 0.95446373, 0.95082245, 0.95082245, 0.95363135,\n",
       "        0.95363135, 0.95230348, 0.95224527, 0.95493079, 0.95493079,\n",
       "        0.95493079, 0.95342545]),\n",
       " 'split1_test_score': array([0.95068183, 0.95068183, 0.95058402, 0.95058402, 0.95509058,\n",
       "        0.95509058, 0.95509058, 0.9549943 , 0.95781945, 0.95781945,\n",
       "        0.95781945, 0.9549943 ]),\n",
       " 'split2_test_score': array([0.95210042, 0.95210042, 0.95210042, 0.95214578, 0.95773686,\n",
       "        0.95773686, 0.95917763, 0.95788767, 0.96299073, 0.96299073,\n",
       "        0.96299073, 0.96168427]),\n",
       " 'split3_test_score': array([0.95551889, 0.95551889, 0.95551889, 0.9584491 , 0.95698267,\n",
       "        0.95698267, 0.95698267, 0.9584491 , 0.96282415, 0.96282415,\n",
       "        0.96145575, 0.95995639]),\n",
       " 'split4_test_score': array([0.95531202, 0.95531202, 0.95532241, 0.95399238, 0.96142824,\n",
       "        0.96142824, 0.96140319, 0.96269686, 0.96607863, 0.96607863,\n",
       "        0.96585647, 0.96299422]),\n",
       " 'std_fit_time': array([0.05416426, 0.00556441, 0.01879477, 0.19073059, 0.0834256 ,\n",
       "        0.06458109, 0.00679463, 0.40673326, 0.02820374, 0.17718082,\n",
       "        0.05554552, 0.55476278]),\n",
       " 'std_score_time': array([0.00048996, 0.00040004, 0.00039999, 0.00048982, 0.00040009,\n",
       "        0.00039992, 0.00039997, 0.00048996, 0.00048988, 0.00040011,\n",
       "        0.00049   , 0.00039997]),\n",
       " 'std_test_score': array([0.00190336, 0.00190336, 0.00214615, 0.0028917 , 0.00264908,\n",
       "        0.00264908, 0.00315793, 0.00351089, 0.00400256, 0.00400256,\n",
       "        0.0038472 , 0.00375543])}"
      ]
     },
     "execution_count": 28,
     "metadata": {},
     "output_type": "execute_result"
    }
   ],
   "source": [
    "# looks like not a big improvement, thus stay with the last variant - Logistic Regression solver lfbgs, c=1.\n",
    "#Test sample f1score 0.99, cross_val score 0.991\n",
    "grid.cv_results_"
   ]
  },
  {
   "cell_type": "markdown",
   "metadata": {},
   "source": [
    "### Questions:"
   ]
  },
  {
   "cell_type": "markdown",
   "metadata": {},
   "source": [
    "- other algorithms? I tried MultinomialNB, result is worse\n",
    "- how to tune LogisticRegression? Check if results improvement are statistically significant?\n",
    "- rationale for using other scoring functions?\n",
    "- how to increase precision in classification_report?"
   ]
  },
  {
   "cell_type": "code",
   "execution_count": 29,
   "metadata": {},
   "outputs": [],
   "source": [
    "from sklearn.metrics import confusion_matrix\n",
    "import itertools"
   ]
  },
  {
   "cell_type": "code",
   "execution_count": 30,
   "metadata": {},
   "outputs": [],
   "source": [
    "cm=confusion_matrix(clf.predict(X_test_), y_test_)"
   ]
  },
  {
   "cell_type": "code",
   "execution_count": 31,
   "metadata": {},
   "outputs": [],
   "source": [
    "def plot_confusion_matrix(cm, classes,\n",
    "                          normalize=False,\n",
    "                          title='Confusion matrix',\n",
    "                          cmap=plt.cm.Blues):\n",
    "    \"\"\"\n",
    "    This function prints and plots the confusion matrix.\n",
    "    Normalization can be applied by setting `normalize=True`.\n",
    "    \"\"\"\n",
    "    if normalize:\n",
    "        cm = cm.astype('float') / cm.sum(axis=1)[:, np.newaxis]\n",
    "        print(\"Normalized confusion matrix\")\n",
    "    else:\n",
    "        print('Confusion matrix, without normalization')\n",
    "\n",
    "    #print(cm)\n",
    "\n",
    "    plt.imshow(cm, interpolation='nearest', cmap=cmap)\n",
    "    plt.title(title)\n",
    "    plt.colorbar()\n",
    "    tick_marks = np.arange(len(classes))\n",
    "    plt.xticks(tick_marks, classes, rotation=45)\n",
    "    plt.yticks(tick_marks, classes)\n",
    "\n",
    "    fmt = '.2f' if normalize else 'd'\n",
    "    thresh = cm.max() / 2.\n",
    "    for i, j in itertools.product(range(cm.shape[0]), range(cm.shape[1])):\n",
    "        plt.text(j, i, format(cm[i, j], fmt),\n",
    "                 horizontalalignment=\"center\",\n",
    "                 color=\"white\" if cm[i, j] > thresh else \"black\")\n",
    "\n",
    "    plt.tight_layout()\n",
    "    plt.ylabel('True label')\n",
    "    plt.xlabel('Predicted label')\n",
    "\n",
    "\n",
    "np.set_printoptions(precision=2)\n",
    "\n"
   ]
  },
  {
   "cell_type": "code",
   "execution_count": 32,
   "metadata": {},
   "outputs": [
    {
     "name": "stdout",
     "output_type": "stream",
     "text": [
      "Normalized confusion matrix\n"
     ]
    },
    {
     "data": {
      "image/png": "[encoded data removed]",
      "text/plain": [
       "<matplotlib.figure.Figure at 0xb6a09b0>"
      ]
     },
     "metadata": {},
     "output_type": "display_data"
    }
   ],
   "source": [
    "np.set_printoptions(precision=2)\n",
    "plt.figure(figsize=(15,15))\n",
    "plot_confusion_matrix(cm, classes=feature_codes.keys(), normalize=True,\n",
    "                      title='Normalized confusion matrix')\n",
    "\n",
    "plt.show()"
   ]
  },
  {
   "cell_type": "code",
   "execution_count": null,
   "metadata": {},
   "outputs": [],
   "source": []
  }
 ],
 "metadata": {
  "kernelspec": {
   "display_name": "Python 3",
   "language": "python",
   "name": "python3"
  },
  "language_info": {
   "codemirror_mode": {
    "name": "ipython",
    "version": 3
   },
   "file_extension": ".py",
   "mimetype": "text/x-python",
   "name": "python",
   "nbconvert_exporter": "python",
   "pygments_lexer": "ipython3",
   "version": "3.6.3"
  }
 },
 "nbformat": 4,
 "nbformat_minor": 2
}
