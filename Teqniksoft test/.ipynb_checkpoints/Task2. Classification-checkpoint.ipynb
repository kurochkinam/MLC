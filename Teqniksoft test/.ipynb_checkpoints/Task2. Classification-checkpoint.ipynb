{
 "cells": [
  {
   "cell_type": "markdown",
   "metadata": {},
   "source": [
    "### TASK 2. Любым методом спрогнозировать колонку PASSFAIL"
   ]
  },
  {
   "cell_type": "code",
   "execution_count": 1,
   "metadata": {},
   "outputs": [],
   "source": [
    "import pandas as pd\n",
    "import numpy as np\n",
    "from matplotlib import pyplot as plt\n",
    "\n",
    "from sklearn.decomposition import PCA\n",
    "from sklearn.model_selection import cross_val_score, train_test_split, StratifiedShuffleSplit\n",
    "\n",
    "from sklearn import metrics\n",
    "\n",
    "from sklearn.neighbors import KNeighborsClassifier\n",
    "from sklearn.ensemble import RandomForestClassifier\n",
    "from sklearn.svm import SVC\n",
    "from sklearn.linear_model import LogisticRegression\n",
    "\n",
    "from sklearn.utils import resample, shuffle\n",
    "import itertools\n",
    "from collections import Counter"
   ]
  },
  {
   "cell_type": "code",
   "execution_count": 2,
   "metadata": {},
   "outputs": [],
   "source": [
    "data=pd.read_csv(\"D:/Download/dataset_task2.csv\")"
   ]
  },
  {
   "cell_type": "code",
   "execution_count": 3,
   "metadata": {},
   "outputs": [
    {
     "name": "stdout",
     "output_type": "stream",
     "text": [
      "<class 'pandas.core.frame.DataFrame'>\n",
      "RangeIndex: 238 entries, 0 to 237\n",
      "Columns: 1000 entries, PASSFAIL to col_999\n",
      "dtypes: float64(927), int64(72), object(1)\n",
      "memory usage: 1.8+ MB\n"
     ]
    }
   ],
   "source": [
    "data.info()"
   ]
  },
  {
   "cell_type": "code",
   "execution_count": 4,
   "metadata": {},
   "outputs": [
    {
     "data": {
      "text/html": [
       "<div>\n",
       "<style scoped>\n",
       "    .dataframe tbody tr th:only-of-type {\n",
       "        vertical-align: middle;\n",
       "    }\n",
       "\n",
       "    .dataframe tbody tr th {\n",
       "        vertical-align: top;\n",
       "    }\n",
       "\n",
       "    .dataframe thead th {\n",
       "        text-align: right;\n",
       "    }\n",
       "</style>\n",
       "<table border=\"1\" class=\"dataframe\">\n",
       "  <thead>\n",
       "    <tr style=\"text-align: right;\">\n",
       "      <th></th>\n",
       "      <th>col_1</th>\n",
       "      <th>col_2</th>\n",
       "      <th>col_3</th>\n",
       "      <th>col_4</th>\n",
       "      <th>col_5</th>\n",
       "      <th>col_6</th>\n",
       "      <th>col_7</th>\n",
       "      <th>col_8</th>\n",
       "      <th>col_9</th>\n",
       "      <th>col_10</th>\n",
       "      <th>...</th>\n",
       "      <th>col_990</th>\n",
       "      <th>col_991</th>\n",
       "      <th>col_992</th>\n",
       "      <th>col_993</th>\n",
       "      <th>col_994</th>\n",
       "      <th>col_995</th>\n",
       "      <th>col_996</th>\n",
       "      <th>col_997</th>\n",
       "      <th>col_998</th>\n",
       "      <th>col_999</th>\n",
       "    </tr>\n",
       "  </thead>\n",
       "  <tbody>\n",
       "    <tr>\n",
       "      <th>count</th>\n",
       "      <td>210.0</td>\n",
       "      <td>224.0</td>\n",
       "      <td>182.000000</td>\n",
       "      <td>224.000000</td>\n",
       "      <td>224.000000</td>\n",
       "      <td>182.000000</td>\n",
       "      <td>224.000000</td>\n",
       "      <td>224.000000</td>\n",
       "      <td>210.000000</td>\n",
       "      <td>196.000000</td>\n",
       "      <td>...</td>\n",
       "      <td>224.000000</td>\n",
       "      <td>238.000000</td>\n",
       "      <td>196.0</td>\n",
       "      <td>109.000000</td>\n",
       "      <td>210.000000</td>\n",
       "      <td>168.000000</td>\n",
       "      <td>224.000000</td>\n",
       "      <td>210.000000</td>\n",
       "      <td>224.000000</td>\n",
       "      <td>224.000000</td>\n",
       "    </tr>\n",
       "    <tr>\n",
       "      <th>mean</th>\n",
       "      <td>1.0</td>\n",
       "      <td>0.0</td>\n",
       "      <td>1.368132</td>\n",
       "      <td>-3.095045</td>\n",
       "      <td>-2.605402</td>\n",
       "      <td>415.835165</td>\n",
       "      <td>-2.725313</td>\n",
       "      <td>-1.941652</td>\n",
       "      <td>-2.914000</td>\n",
       "      <td>483.581633</td>\n",
       "      <td>...</td>\n",
       "      <td>-2.986295</td>\n",
       "      <td>6.993818</td>\n",
       "      <td>1.0</td>\n",
       "      <td>11924.770642</td>\n",
       "      <td>-2.913000</td>\n",
       "      <td>10.951231</td>\n",
       "      <td>-2.735402</td>\n",
       "      <td>-3.060048</td>\n",
       "      <td>-2.590536</td>\n",
       "      <td>-2.695804</td>\n",
       "    </tr>\n",
       "    <tr>\n",
       "      <th>std</th>\n",
       "      <td>0.0</td>\n",
       "      <td>0.0</td>\n",
       "      <td>0.483628</td>\n",
       "      <td>0.314960</td>\n",
       "      <td>0.250465</td>\n",
       "      <td>28.751080</td>\n",
       "      <td>0.284088</td>\n",
       "      <td>0.113976</td>\n",
       "      <td>0.281255</td>\n",
       "      <td>31.656141</td>\n",
       "      <td>...</td>\n",
       "      <td>0.305299</td>\n",
       "      <td>16.844814</td>\n",
       "      <td>0.0</td>\n",
       "      <td>380.769996</td>\n",
       "      <td>0.284452</td>\n",
       "      <td>0.731731</td>\n",
       "      <td>0.272392</td>\n",
       "      <td>0.299722</td>\n",
       "      <td>0.251802</td>\n",
       "      <td>0.282186</td>\n",
       "    </tr>\n",
       "    <tr>\n",
       "      <th>min</th>\n",
       "      <td>1.0</td>\n",
       "      <td>0.0</td>\n",
       "      <td>1.000000</td>\n",
       "      <td>-3.930000</td>\n",
       "      <td>-3.440000</td>\n",
       "      <td>355.000000</td>\n",
       "      <td>-3.480000</td>\n",
       "      <td>-2.360000</td>\n",
       "      <td>-3.680000</td>\n",
       "      <td>413.000000</td>\n",
       "      <td>...</td>\n",
       "      <td>-3.600000</td>\n",
       "      <td>-48.508500</td>\n",
       "      <td>1.0</td>\n",
       "      <td>10863.000000</td>\n",
       "      <td>-3.760000</td>\n",
       "      <td>9.216648</td>\n",
       "      <td>-3.490000</td>\n",
       "      <td>-3.650000</td>\n",
       "      <td>-3.400000</td>\n",
       "      <td>-3.430000</td>\n",
       "    </tr>\n",
       "    <tr>\n",
       "      <th>25%</th>\n",
       "      <td>1.0</td>\n",
       "      <td>0.0</td>\n",
       "      <td>1.000000</td>\n",
       "      <td>-3.310000</td>\n",
       "      <td>-2.762500</td>\n",
       "      <td>395.250000</td>\n",
       "      <td>-2.912500</td>\n",
       "      <td>-2.012500</td>\n",
       "      <td>-3.097500</td>\n",
       "      <td>462.750000</td>\n",
       "      <td>...</td>\n",
       "      <td>-3.210000</td>\n",
       "      <td>-4.921500</td>\n",
       "      <td>1.0</td>\n",
       "      <td>11698.000000</td>\n",
       "      <td>-3.090000</td>\n",
       "      <td>10.365223</td>\n",
       "      <td>-2.942500</td>\n",
       "      <td>-3.247500</td>\n",
       "      <td>-2.750000</td>\n",
       "      <td>-2.900000</td>\n",
       "    </tr>\n",
       "    <tr>\n",
       "      <th>50%</th>\n",
       "      <td>1.0</td>\n",
       "      <td>0.0</td>\n",
       "      <td>1.000000</td>\n",
       "      <td>-3.090000</td>\n",
       "      <td>-2.595000</td>\n",
       "      <td>418.000000</td>\n",
       "      <td>-2.700000</td>\n",
       "      <td>-1.930000</td>\n",
       "      <td>-2.915000</td>\n",
       "      <td>485.500000</td>\n",
       "      <td>...</td>\n",
       "      <td>-3.010000</td>\n",
       "      <td>7.762800</td>\n",
       "      <td>1.0</td>\n",
       "      <td>11926.000000</td>\n",
       "      <td>-2.940000</td>\n",
       "      <td>11.080856</td>\n",
       "      <td>-2.705000</td>\n",
       "      <td>-3.105000</td>\n",
       "      <td>-2.580000</td>\n",
       "      <td>-2.680000</td>\n",
       "    </tr>\n",
       "    <tr>\n",
       "      <th>75%</th>\n",
       "      <td>1.0</td>\n",
       "      <td>0.0</td>\n",
       "      <td>2.000000</td>\n",
       "      <td>-2.867500</td>\n",
       "      <td>-2.440000</td>\n",
       "      <td>435.000000</td>\n",
       "      <td>-2.520000</td>\n",
       "      <td>-1.860000</td>\n",
       "      <td>-2.710000</td>\n",
       "      <td>503.000000</td>\n",
       "      <td>...</td>\n",
       "      <td>-2.747500</td>\n",
       "      <td>19.257150</td>\n",
       "      <td>1.0</td>\n",
       "      <td>12119.000000</td>\n",
       "      <td>-2.692500</td>\n",
       "      <td>11.580226</td>\n",
       "      <td>-2.550000</td>\n",
       "      <td>-2.850000</td>\n",
       "      <td>-2.407500</td>\n",
       "      <td>-2.497500</td>\n",
       "    </tr>\n",
       "    <tr>\n",
       "      <th>max</th>\n",
       "      <td>1.0</td>\n",
       "      <td>0.0</td>\n",
       "      <td>2.000000</td>\n",
       "      <td>-2.370000</td>\n",
       "      <td>-2.030000</td>\n",
       "      <td>500.000000</td>\n",
       "      <td>-1.990000</td>\n",
       "      <td>-1.700000</td>\n",
       "      <td>-2.320000</td>\n",
       "      <td>570.000000</td>\n",
       "      <td>...</td>\n",
       "      <td>-2.260000</td>\n",
       "      <td>40.766400</td>\n",
       "      <td>1.0</td>\n",
       "      <td>13108.000000</td>\n",
       "      <td>-2.270000</td>\n",
       "      <td>12.349022</td>\n",
       "      <td>-2.080000</td>\n",
       "      <td>-2.320000</td>\n",
       "      <td>-1.940000</td>\n",
       "      <td>-2.030000</td>\n",
       "    </tr>\n",
       "  </tbody>\n",
       "</table>\n",
       "<p>8 rows × 999 columns</p>\n",
       "</div>"
      ],
      "text/plain": [
       "       col_1  col_2       col_3       col_4       col_5       col_6  \\\n",
       "count  210.0  224.0  182.000000  224.000000  224.000000  182.000000   \n",
       "mean     1.0    0.0    1.368132   -3.095045   -2.605402  415.835165   \n",
       "std      0.0    0.0    0.483628    0.314960    0.250465   28.751080   \n",
       "min      1.0    0.0    1.000000   -3.930000   -3.440000  355.000000   \n",
       "25%      1.0    0.0    1.000000   -3.310000   -2.762500  395.250000   \n",
       "50%      1.0    0.0    1.000000   -3.090000   -2.595000  418.000000   \n",
       "75%      1.0    0.0    2.000000   -2.867500   -2.440000  435.000000   \n",
       "max      1.0    0.0    2.000000   -2.370000   -2.030000  500.000000   \n",
       "\n",
       "            col_7       col_8       col_9      col_10     ...         col_990  \\\n",
       "count  224.000000  224.000000  210.000000  196.000000     ...      224.000000   \n",
       "mean    -2.725313   -1.941652   -2.914000  483.581633     ...       -2.986295   \n",
       "std      0.284088    0.113976    0.281255   31.656141     ...        0.305299   \n",
       "min     -3.480000   -2.360000   -3.680000  413.000000     ...       -3.600000   \n",
       "25%     -2.912500   -2.012500   -3.097500  462.750000     ...       -3.210000   \n",
       "50%     -2.700000   -1.930000   -2.915000  485.500000     ...       -3.010000   \n",
       "75%     -2.520000   -1.860000   -2.710000  503.000000     ...       -2.747500   \n",
       "max     -1.990000   -1.700000   -2.320000  570.000000     ...       -2.260000   \n",
       "\n",
       "          col_991  col_992       col_993     col_994     col_995     col_996  \\\n",
       "count  238.000000    196.0    109.000000  210.000000  168.000000  224.000000   \n",
       "mean     6.993818      1.0  11924.770642   -2.913000   10.951231   -2.735402   \n",
       "std     16.844814      0.0    380.769996    0.284452    0.731731    0.272392   \n",
       "min    -48.508500      1.0  10863.000000   -3.760000    9.216648   -3.490000   \n",
       "25%     -4.921500      1.0  11698.000000   -3.090000   10.365223   -2.942500   \n",
       "50%      7.762800      1.0  11926.000000   -2.940000   11.080856   -2.705000   \n",
       "75%     19.257150      1.0  12119.000000   -2.692500   11.580226   -2.550000   \n",
       "max     40.766400      1.0  13108.000000   -2.270000   12.349022   -2.080000   \n",
       "\n",
       "          col_997     col_998     col_999  \n",
       "count  210.000000  224.000000  224.000000  \n",
       "mean    -3.060048   -2.590536   -2.695804  \n",
       "std      0.299722    0.251802    0.282186  \n",
       "min     -3.650000   -3.400000   -3.430000  \n",
       "25%     -3.247500   -2.750000   -2.900000  \n",
       "50%     -3.105000   -2.580000   -2.680000  \n",
       "75%     -2.850000   -2.407500   -2.497500  \n",
       "max     -2.320000   -1.940000   -2.030000  \n",
       "\n",
       "[8 rows x 999 columns]"
      ]
     },
     "execution_count": 4,
     "metadata": {},
     "output_type": "execute_result"
    }
   ],
   "source": [
    "data.describe()"
   ]
  },
  {
   "cell_type": "code",
   "execution_count": 5,
   "metadata": {},
   "outputs": [
    {
     "name": "stdout",
     "output_type": "stream",
     "text": [
      "Share of PASS values 92.86%, share of FAIL values 7.14% \n"
     ]
    }
   ],
   "source": [
    "print(\"Share of PASS values {:.2%}, share of FAIL values {:.2%} \".format(sum(data[\"PASSFAIL\"]==\"PASS\")/data.shape[0], \n",
    "                                                                         sum(data[\"PASSFAIL\"]==\"FAIL\")/data.shape[0]))"
   ]
  },
  {
   "cell_type": "markdown",
   "metadata": {},
   "source": [
    " In this dataset we have too many features (998) vs observations (238), moreover sample is imbalanced (93% vs 7%). \n",
    "The plan is:\n",
    "- delete constant features with 0 standard deviation, they are not informative\n",
    "- upsample FAIL class;\n",
    "- decrease number of features with PCA;\n",
    "- make classification.\n",
    "\n"
   ]
  },
  {
   "cell_type": "markdown",
   "metadata": {},
   "source": [
    "#### Deleting constant features"
   ]
  },
  {
   "cell_type": "code",
   "execution_count": 6,
   "metadata": {},
   "outputs": [
    {
     "data": {
      "text/plain": [
       "(999,)"
      ]
     },
     "execution_count": 6,
     "metadata": {},
     "output_type": "execute_result"
    }
   ],
   "source": [
    "stds=data.std(axis=0)\n",
    "stds.shape"
   ]
  },
  {
   "cell_type": "code",
   "execution_count": 7,
   "metadata": {},
   "outputs": [
    {
     "name": "stdout",
     "output_type": "stream",
     "text": [
      "176\n"
     ]
    }
   ],
   "source": [
    "\n",
    "cols_del_std_0=[]\n",
    "for index, row in stds.items():\n",
    "    if  row==0:\n",
    "        cols_del_std_0.append(index)\n",
    "print(len(cols_del_std_0))"
   ]
  },
  {
   "cell_type": "code",
   "execution_count": 8,
   "metadata": {},
   "outputs": [],
   "source": [
    "data=data.drop(cols_del_std_0, axis=1)"
   ]
  },
  {
   "cell_type": "code",
   "execution_count": 9,
   "metadata": {},
   "outputs": [
    {
     "data": {
      "text/plain": [
       "(238, 824)"
      ]
     },
     "execution_count": 9,
     "metadata": {},
     "output_type": "execute_result"
    }
   ],
   "source": [
    "data.shape"
   ]
  },
  {
   "cell_type": "markdown",
   "metadata": {},
   "source": [
    "#### Upsampling"
   ]
  },
  {
   "cell_type": "code",
   "execution_count": 10,
   "metadata": {},
   "outputs": [
    {
     "data": {
      "text/plain": [
       "FAIL    221\n",
       "PASS    221\n",
       "Name: PASSFAIL, dtype: int64"
      ]
     },
     "execution_count": 10,
     "metadata": {},
     "output_type": "execute_result"
    }
   ],
   "source": [
    "# Separate majority and minority classes\n",
    "df_major = data[data[\"PASSFAIL\"]==\"PASS\"]\n",
    "df_minor = data[data[\"PASSFAIL\"]==\"FAIL\"]\n",
    " \n",
    "\n",
    "df_minor_upsampled = resample(df_minor, \n",
    "                                 replace=True,     \n",
    "                                 n_samples=df_major.shape[0],    \n",
    "                                 ) \n",
    "\n",
    "df_upsampled = pd.concat([df_major, df_minor_upsampled])\n",
    " \n",
    "\n",
    "df_upsampled[\"PASSFAIL\"].value_counts()\n"
   ]
  },
  {
   "cell_type": "code",
   "execution_count": 11,
   "metadata": {},
   "outputs": [],
   "source": [
    "df_shuffled=shuffle(df_upsampled)\n",
    "y=df_shuffled[\"PASSFAIL\"]\n",
    "X=df_shuffled.drop(\"PASSFAIL\",1 )\n",
    "y=y.replace({\"PASS\":1, \"FAIL\":0})\n",
    "X_=X.fillna(0)"
   ]
  },
  {
   "cell_type": "code",
   "execution_count": 12,
   "metadata": {},
   "outputs": [
    {
     "data": {
      "text/plain": [
       "(442, 823)"
      ]
     },
     "execution_count": 12,
     "metadata": {},
     "output_type": "execute_result"
    }
   ],
   "source": [
    "X_.shape"
   ]
  },
  {
   "cell_type": "markdown",
   "metadata": {},
   "source": [
    "#### Dimensionality reduction"
   ]
  },
  {
   "cell_type": "code",
   "execution_count": 13,
   "metadata": {},
   "outputs": [],
   "source": [
    "variance=[]\n",
    "for i in range(1,20):\n",
    "    pca=PCA(n_components=i)\n",
    "    pca.fit(X_)\n",
    "    variance.append(sum(pca.explained_variance_ratio_))\n",
    "variance=np.array(variance)\n"
   ]
  },
  {
   "cell_type": "code",
   "execution_count": 14,
   "metadata": {},
   "outputs": [
    {
     "data": {
      "text/plain": [
       "array([1., 1., 1., 1., 1., 1., 1., 1., 1., 1., 1., 1., 1., 1., 1., 1., 1.,\n",
       "       1., 1.])"
      ]
     },
     "execution_count": 14,
     "metadata": {},
     "output_type": "execute_result"
    },
    {
     "data": {
      "image/png": "[encoded data removed]",
      "text/plain": [
       "<matplotlib.figure.Figure at 0xb700dd8>"
      ]
     },
     "metadata": {},
     "output_type": "display_data"
    }
   ],
   "source": [
    "plt.plot(np.arange(1, variance.size+1), variance)\n",
    "plt.xlim(1,variance.size+1)\n",
    "plt.ylim(min(variance), max(variance))\n",
    "plt.xticks(np.arange(1, variance.size+1))\n",
    "variance"
   ]
  },
  {
   "cell_type": "markdown",
   "metadata": {},
   "source": [
    "Even with one component explained variance sums to 1, however for better work of  SVC and Random Forest I will take 2 features, (and 20 features just for a check of classification improvement)."
   ]
  },
  {
   "cell_type": "code",
   "execution_count": 15,
   "metadata": {},
   "outputs": [],
   "source": [
    "pca20=PCA(n_components=20)\n",
    "pca2=PCA(n_components=2)\n",
    "X_reduced_20=pca20.fit_transform(X_)\n",
    "X_reduced_1=pca2.fit_transform(X_)"
   ]
  },
  {
   "cell_type": "markdown",
   "metadata": {},
   "source": [
    "#### Classification"
   ]
  },
  {
   "cell_type": "code",
   "execution_count": 16,
   "metadata": {},
   "outputs": [],
   "source": [
    "classifiers={RandomForestClassifier(),\n",
    "             KNeighborsClassifier(),\n",
    "             SVC(),\n",
    "             LogisticRegression()\n",
    "             }\n",
    "X_train2, X_test2, y_train2, y_test2=train_test_split(X_reduced_1, y, test_size=0.3, shuffle=True)\n",
    "X_train20, X_test20, y_train20, y_test20=train_test_split(X_reduced_20, y, test_size=0.3, shuffle=True)"
   ]
  },
  {
   "cell_type": "code",
   "execution_count": 18,
   "metadata": {},
   "outputs": [
    {
     "data": {
      "text/html": [
       "<div>\n",
       "<style scoped>\n",
       "    .dataframe tbody tr th:only-of-type {\n",
       "        vertical-align: middle;\n",
       "    }\n",
       "\n",
       "    .dataframe tbody tr th {\n",
       "        vertical-align: top;\n",
       "    }\n",
       "\n",
       "    .dataframe thead th {\n",
       "        text-align: right;\n",
       "    }\n",
       "</style>\n",
       "<table border=\"1\" class=\"dataframe\">\n",
       "  <thead>\n",
       "    <tr style=\"text-align: right;\">\n",
       "      <th></th>\n",
       "      <th>Classifier</th>\n",
       "      <th>Accuracy_2 components</th>\n",
       "      <th>Accuracy_20 components</th>\n",
       "    </tr>\n",
       "  </thead>\n",
       "  <tbody>\n",
       "    <tr>\n",
       "      <th>0</th>\n",
       "      <td>SVC</td>\n",
       "      <td>0.993548</td>\n",
       "      <td>1.000000</td>\n",
       "    </tr>\n",
       "    <tr>\n",
       "      <th>1</th>\n",
       "      <td>RandomForestClassifier</td>\n",
       "      <td>0.887097</td>\n",
       "      <td>0.943011</td>\n",
       "    </tr>\n",
       "    <tr>\n",
       "      <th>2</th>\n",
       "      <td>KNeighborsClassifier</td>\n",
       "      <td>0.752688</td>\n",
       "      <td>0.768817</td>\n",
       "    </tr>\n",
       "    <tr>\n",
       "      <th>3</th>\n",
       "      <td>LogisticRegression</td>\n",
       "      <td>0.529032</td>\n",
       "      <td>0.525806</td>\n",
       "    </tr>\n",
       "  </tbody>\n",
       "</table>\n",
       "</div>"
      ],
      "text/plain": [
       "               Classifier  Accuracy_2 components  Accuracy_20 components\n",
       "0                     SVC               0.993548                1.000000\n",
       "1  RandomForestClassifier               0.887097                0.943011\n",
       "2    KNeighborsClassifier               0.752688                0.768817\n",
       "3      LogisticRegression               0.529032                0.525806"
      ]
     },
     "execution_count": 18,
     "metadata": {},
     "output_type": "execute_result"
    }
   ],
   "source": [
    "result=pd.DataFrame(columns=[\"Classifier\",  \"Accuracy_2 components\", \"Accuracy_20 components\"])\n",
    "for clf in classifiers:\n",
    "    cv2=cross_val_score(clf, X_train2, y_train2, cv=StratifiedShuffleSplit(test_size=0.3), scoring=\"accuracy\", n_jobs=-1)\n",
    "    cv20=cross_val_score(clf, X_train20, y_train20, cv=StratifiedShuffleSplit(test_size=0.3), scoring=\"accuracy\", n_jobs=-1)\n",
    "    entry=pd.DataFrame([[clf.__class__.__name__,  cv2.mean(), cv20.mean()]],\n",
    "                           columns=[\"Classifier\",  \"Accuracy_2 components\", \"Accuracy_20 components\"])\n",
    "   \n",
    "    result=result.append(entry, ignore_index=True)\n",
    "result=result.sort_values(\"Accuracy_20 components\", ascending=False).reset_index(drop=True)\n",
    "result"
   ]
  },
  {
   "cell_type": "markdown",
   "metadata": {},
   "source": [
    "Below I have checked test sample & quality of classification for SVC as a best estimator with n_components=2. Accuracy is maximum."
   ]
  },
  {
   "cell_type": "code",
   "execution_count": 19,
   "metadata": {},
   "outputs": [
    {
     "name": "stdout",
     "output_type": "stream",
     "text": [
      "             precision    recall  f1-score   support\n",
      "\n",
      "          0       1.00      1.00      1.00        66\n",
      "          1       1.00      1.00      1.00        67\n",
      "\n",
      "avg / total       1.00      1.00      1.00       133\n",
      "\n"
     ]
    }
   ],
   "source": [
    "svc2=SVC()\n",
    "svc2.fit(X_train2, y_train2)\n",
    "print(metrics.classification_report(svc2.predict(X_test2), y_test2))"
   ]
  },
  {
   "cell_type": "code",
   "execution_count": 20,
   "metadata": {},
   "outputs": [],
   "source": [
    "\n",
    "def plot_confusion_matrix(cm, classes,\n",
    "                          normalize=False,\n",
    "                          title='Confusion matrix',\n",
    "                          cmap=plt.cm.Blues):\n",
    "    \"\"\"\n",
    "    This function prints and plots the confusion matrix.\n",
    "    Normalization can be applied by setting `normalize=True`.\n",
    "    \"\"\"\n",
    "    if normalize:\n",
    "        cm = cm.astype('float') / cm.sum(axis=1)[:, np.newaxis]\n",
    "        print(\"Normalized confusion matrix\")\n",
    "    else:\n",
    "        print('Confusion matrix, without normalization')\n",
    "\n",
    "    print(cm)\n",
    "\n",
    "    plt.imshow(cm, interpolation='nearest', cmap=cmap)\n",
    "    plt.title(title)\n",
    "    plt.colorbar()\n",
    "    tick_marks = np.arange(len(classes))\n",
    "    plt.xticks(tick_marks, classes, rotation=45)\n",
    "    plt.yticks(tick_marks, classes)\n",
    "\n",
    "    fmt = '.2f' if normalize else 'd'\n",
    "    thresh = cm.max() / 2.\n",
    "    for i, j in itertools.product(range(cm.shape[0]), range(cm.shape[1])):\n",
    "        plt.text(j, i, format(cm[i, j], fmt),\n",
    "                 horizontalalignment=\"center\",\n",
    "                 color=\"white\" if cm[i, j] > thresh else \"black\")\n",
    "\n",
    "    plt.tight_layout()\n",
    "    plt.ylabel('True label')\n",
    "    plt.xlabel('Predicted label')\n",
    "\n",
    "\n",
    "np.set_printoptions(precision=2)"
   ]
  },
  {
   "cell_type": "code",
   "execution_count": 21,
   "metadata": {},
   "outputs": [
    {
     "name": "stdout",
     "output_type": "stream",
     "text": [
      "Confusion matrix, without normalization\n",
      "[[66  0]\n",
      " [ 0 67]]\n"
     ]
    },
    {
     "data": {
      "image/png": "[encoded data removed]",
      "text/plain": [
       "<matplotlib.figure.Figure at 0xb6dfa58>"
      ]
     },
     "metadata": {},
     "output_type": "display_data"
    }
   ],
   "source": [
    "cm=metrics.confusion_matrix(svc2.predict(X_test2), y_test2)\n",
    "plot_confusion_matrix(cm, classes=[0,1])"
   ]
  },
  {
   "cell_type": "code",
   "execution_count": null,
   "metadata": {},
   "outputs": [],
   "source": []
  },
  {
   "cell_type": "code",
   "execution_count": null,
   "metadata": {},
   "outputs": [],
   "source": []
  },
  {
   "cell_type": "code",
   "execution_count": null,
   "metadata": {},
   "outputs": [],
   "source": []
  },
  {
   "cell_type": "code",
   "execution_count": null,
   "metadata": {},
   "outputs": [],
   "source": []
  }
 ],
 "metadata": {
  "kernelspec": {
   "display_name": "Python 3",
   "language": "python",
   "name": "python3"
  },
  "language_info": {
   "codemirror_mode": {
    "name": "ipython",
    "version": 3
   },
   "file_extension": ".py",
   "mimetype": "text/x-python",
   "name": "python",
   "nbconvert_exporter": "python",
   "pygments_lexer": "ipython3",
   "version": "3.6.3"
  }
 },
 "nbformat": 4,
 "nbformat_minor": 2
}
