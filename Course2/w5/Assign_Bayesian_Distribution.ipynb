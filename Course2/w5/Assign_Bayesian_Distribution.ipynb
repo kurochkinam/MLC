{
 "cells": [
  {
   "cell_type": "code",
   "execution_count": 6,
   "metadata": {},
   "outputs": [
    {
     "name": "stdout",
     "output_type": "stream",
     "text": [
      "Populating the interactive namespace from numpy and matplotlib\n"
     ]
    }
   ],
   "source": [
    "import numpy as np\n",
    "import pandas as pd\n",
    "from sklearn import datasets, model_selection, naive_bayes\n",
    "\n",
    "\n",
    "%pylab inline"
   ]
  },
  {
   "cell_type": "code",
   "execution_count": 3,
   "metadata": {},
   "outputs": [],
   "source": [
    "digits=datasets.load_digits()\n",
    "cancer=datasets.load_breast_cancer()"
   ]
  },
  {
   "cell_type": "code",
   "execution_count": 7,
   "metadata": {},
   "outputs": [],
   "source": [
    "bernouli=naive_bayes.BernoulliNB()\n",
    "multinom=naive_bayes.MultinomialNB()\n",
    "gaussian=naive_bayes.GaussianNB()"
   ]
  },
  {
   "cell_type": "code",
   "execution_count": 10,
   "metadata": {},
   "outputs": [],
   "source": [
    "cvb_d=model_selection.cross_val_score(bernouli, digits.data, digits.target )\n",
    "cvm_d=model_selection.cross_val_score(multinom, digits.data, digits.target )\n",
    "cvg_d=model_selection.cross_val_score(gaussian, digits.data, digits.target )\n",
    "cvb_c=model_selection.cross_val_score(bernouli, cancer.data, cancer.target )\n",
    "cvm_c=model_selection.cross_val_score(multinom, cancer.data, cancer.target )\n",
    "cvg_c=model_selection.cross_val_score(gaussian, cancer.data, cancer.target )"
   ]
  },
  {
   "cell_type": "code",
   "execution_count": 14,
   "metadata": {},
   "outputs": [
    {
     "name": "stdout",
     "output_type": "stream",
     "text": [
      "Digits bernouli: 0.83\n",
      "Digits multinom: 0.87\n",
      "Digits gaus: 0.82\n",
      "Cancer bernouli: 0.63\n",
      "Cancer multinom: 0.89\n",
      "Cancer gaus: 0.94\n"
     ]
    }
   ],
   "source": [
    "print(\"Digits bernouli: {:.2f}\".format(cvb_d.mean(axis=0)))\n",
    "print(\"Digits multinom: {:.2f}\".format(cvm_d.mean(axis=0)))\n",
    "print(\"Digits gaus: {:.2f}\".format(cvg_d.mean(axis=0)))\n",
    "print(\"Cancer bernouli: {:.2f}\".format(cvb_c.mean(axis=0)))\n",
    "print(\"Cancer multinom: {:.2f}\".format(cvm_c.mean(axis=0)))\n",
    "print(\"Cancer gaus: {:.2f}\".format(cvg_c.mean(axis=0)))"
   ]
  },
  {
   "cell_type": "code",
   "execution_count": null,
   "metadata": {},
   "outputs": [],
   "source": []
  }
 ],
 "metadata": {
  "kernelspec": {
   "display_name": "Python 3",
   "language": "python",
   "name": "python3"
  },
  "language_info": {
   "codemirror_mode": {
    "name": "ipython",
    "version": 3
   },
   "file_extension": ".py",
   "mimetype": "text/x-python",
   "name": "python",
   "nbconvert_exporter": "python",
   "pygments_lexer": "ipython3",
   "version": "3.6.3"
  }
 },
 "nbformat": 4,
 "nbformat_minor": 2
}
