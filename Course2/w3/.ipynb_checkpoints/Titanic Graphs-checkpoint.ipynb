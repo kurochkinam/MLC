{
 "cells": [
  {
   "cell_type": "code",
   "execution_count": 1,
   "metadata": {},
   "outputs": [],
   "source": [
    "#General\n",
    "import numpy as np # linear algebra\n",
    "import pandas as pd # data processing, CSV file I/O (e.g. pd.read_csv)\n",
    "\n",
    "#Visualization\n",
    "import seaborn as sns\n",
    "import matplotlib.pyplot as plt\n",
    "\n"
   ]
  },
  {
   "cell_type": "code",
   "execution_count": 3,
   "metadata": {},
   "outputs": [],
   "source": [
    "%matplotlib inline"
   ]
  },
  {
   "cell_type": "code",
   "execution_count": 4,
   "metadata": {},
   "outputs": [],
   "source": [
    "data1=pd.read_csv(\"D://Download/train.csv\")\n",
    "data2=pd.read_csv(\"D://Download/test.csv\")\n",
    "full=data1.append(data2, ignore_index=True, sort=False)\n",
    "titanic=full[:891]"
   ]
  },
  {
   "cell_type": "code",
   "execution_count": 46,
   "metadata": {},
   "outputs": [
    {
     "data": {
      "text/plain": [
       "Pclass  Sex   \n",
       "1       female     94\n",
       "        male      122\n",
       "2       female     76\n",
       "        male      108\n",
       "3       female    144\n",
       "        male      347\n",
       "Name: Survived, dtype: int64"
      ]
     },
     "execution_count": 46,
     "metadata": {},
     "output_type": "execute_result"
    }
   ],
   "source": [
    "# survived by class and sex\n",
    "\n",
    "titanic.groupby([\"Pclass\", \"Sex\"])[\"Survived\"].agg([\"mean\", \"count\", \"size\"])\n",
    "titanic.groupby([\"Pclass\", \"Sex\"])[\"Survived\"].count()"
   ]
  },
  {
   "cell_type": "code",
   "execution_count": 44,
   "metadata": {},
   "outputs": [
    {
     "data": {
      "text/plain": [
       "Pclass  Sex     Survived\n",
       "1       female  1.0         0.968085\n",
       "                0.0         0.031915\n",
       "        male    0.0         0.631148\n",
       "                1.0         0.368852\n",
       "2       female  1.0         0.921053\n",
       "                0.0         0.078947\n",
       "        male    0.0         0.842593\n",
       "                1.0         0.157407\n",
       "3       female  0.0         0.500000\n",
       "                1.0         0.500000\n",
       "        male    0.0         0.864553\n",
       "                1.0         0.135447\n",
       "Name: Survived, dtype: float64"
      ]
     },
     "execution_count": 44,
     "metadata": {},
     "output_type": "execute_result"
    }
   ],
   "source": [
    "titanic.groupby([\"Pclass\", \"Sex\"])[\"Survived\"].value_counts(normalize=True)\n",
    "\n"
   ]
  },
  {
   "cell_type": "code",
   "execution_count": 33,
   "metadata": {},
   "outputs": [
    {
     "data": {
      "text/plain": [
       "pandas.core.frame.DataFrame"
      ]
     },
     "execution_count": 33,
     "metadata": {},
     "output_type": "execute_result"
    }
   ],
   "source": [
    "type(titanic)"
   ]
  },
  {
   "cell_type": "code",
   "execution_count": 47,
   "metadata": {},
   "outputs": [
    {
     "data": {
      "text/html": [
       "<div>\n",
       "<style scoped>\n",
       "    .dataframe tbody tr th:only-of-type {\n",
       "        vertical-align: middle;\n",
       "    }\n",
       "\n",
       "    .dataframe tbody tr th {\n",
       "        vertical-align: top;\n",
       "    }\n",
       "\n",
       "    .dataframe thead th {\n",
       "        text-align: right;\n",
       "    }\n",
       "</style>\n",
       "<table border=\"1\" class=\"dataframe\">\n",
       "  <thead>\n",
       "    <tr style=\"text-align: right;\">\n",
       "      <th></th>\n",
       "      <th>Age</th>\n",
       "      <th>Fare</th>\n",
       "      <th>Pclass</th>\n",
       "      <th>SibSp</th>\n",
       "      <th>Parch</th>\n",
       "    </tr>\n",
       "  </thead>\n",
       "  <tbody>\n",
       "    <tr>\n",
       "      <th>count</th>\n",
       "      <td>453.000000</td>\n",
       "      <td>577.000000</td>\n",
       "      <td>577.000000</td>\n",
       "      <td>577.000000</td>\n",
       "      <td>577.000000</td>\n",
       "    </tr>\n",
       "    <tr>\n",
       "      <th>mean</th>\n",
       "      <td>30.726645</td>\n",
       "      <td>25.523893</td>\n",
       "      <td>2.389948</td>\n",
       "      <td>0.429809</td>\n",
       "      <td>0.235702</td>\n",
       "    </tr>\n",
       "    <tr>\n",
       "      <th>std</th>\n",
       "      <td>14.678201</td>\n",
       "      <td>43.138263</td>\n",
       "      <td>0.813580</td>\n",
       "      <td>1.061811</td>\n",
       "      <td>0.612294</td>\n",
       "    </tr>\n",
       "    <tr>\n",
       "      <th>min</th>\n",
       "      <td>0.420000</td>\n",
       "      <td>0.000000</td>\n",
       "      <td>1.000000</td>\n",
       "      <td>0.000000</td>\n",
       "      <td>0.000000</td>\n",
       "    </tr>\n",
       "    <tr>\n",
       "      <th>25%</th>\n",
       "      <td>21.000000</td>\n",
       "      <td>7.895800</td>\n",
       "      <td>2.000000</td>\n",
       "      <td>0.000000</td>\n",
       "      <td>0.000000</td>\n",
       "    </tr>\n",
       "    <tr>\n",
       "      <th>50%</th>\n",
       "      <td>29.000000</td>\n",
       "      <td>10.500000</td>\n",
       "      <td>3.000000</td>\n",
       "      <td>0.000000</td>\n",
       "      <td>0.000000</td>\n",
       "    </tr>\n",
       "    <tr>\n",
       "      <th>75%</th>\n",
       "      <td>39.000000</td>\n",
       "      <td>26.550000</td>\n",
       "      <td>3.000000</td>\n",
       "      <td>0.000000</td>\n",
       "      <td>0.000000</td>\n",
       "    </tr>\n",
       "    <tr>\n",
       "      <th>max</th>\n",
       "      <td>80.000000</td>\n",
       "      <td>512.329200</td>\n",
       "      <td>3.000000</td>\n",
       "      <td>8.000000</td>\n",
       "      <td>5.000000</td>\n",
       "    </tr>\n",
       "  </tbody>\n",
       "</table>\n",
       "</div>"
      ],
      "text/plain": [
       "              Age        Fare      Pclass       SibSp       Parch\n",
       "count  453.000000  577.000000  577.000000  577.000000  577.000000\n",
       "mean    30.726645   25.523893    2.389948    0.429809    0.235702\n",
       "std     14.678201   43.138263    0.813580    1.061811    0.612294\n",
       "min      0.420000    0.000000    1.000000    0.000000    0.000000\n",
       "25%     21.000000    7.895800    2.000000    0.000000    0.000000\n",
       "50%     29.000000   10.500000    3.000000    0.000000    0.000000\n",
       "75%     39.000000   26.550000    3.000000    0.000000    0.000000\n",
       "max     80.000000  512.329200    3.000000    8.000000    5.000000"
      ]
     },
     "execution_count": 47,
     "metadata": {},
     "output_type": "execute_result"
    }
   ],
   "source": [
    "describe_fields=[\"Age\", \"Fare\", \"Pclass\", \"SibSp\", \"Parch\"]\n",
    "titanic[titanic[\"Sex\"]==\"male\"][describe_fields].describe()"
   ]
  },
  {
   "cell_type": "code",
   "execution_count": 48,
   "metadata": {},
   "outputs": [
    {
     "data": {
      "text/html": [
       "<div>\n",
       "<style scoped>\n",
       "    .dataframe tbody tr th:only-of-type {\n",
       "        vertical-align: middle;\n",
       "    }\n",
       "\n",
       "    .dataframe tbody tr th {\n",
       "        vertical-align: top;\n",
       "    }\n",
       "\n",
       "    .dataframe thead th {\n",
       "        text-align: right;\n",
       "    }\n",
       "</style>\n",
       "<table border=\"1\" class=\"dataframe\">\n",
       "  <thead>\n",
       "    <tr style=\"text-align: right;\">\n",
       "      <th></th>\n",
       "      <th>Age</th>\n",
       "      <th>Fare</th>\n",
       "      <th>Pclass</th>\n",
       "      <th>SibSp</th>\n",
       "      <th>Parch</th>\n",
       "    </tr>\n",
       "  </thead>\n",
       "  <tbody>\n",
       "    <tr>\n",
       "      <th>count</th>\n",
       "      <td>261.000000</td>\n",
       "      <td>314.000000</td>\n",
       "      <td>314.000000</td>\n",
       "      <td>314.000000</td>\n",
       "      <td>314.000000</td>\n",
       "    </tr>\n",
       "    <tr>\n",
       "      <th>mean</th>\n",
       "      <td>27.915709</td>\n",
       "      <td>44.479818</td>\n",
       "      <td>2.159236</td>\n",
       "      <td>0.694268</td>\n",
       "      <td>0.649682</td>\n",
       "    </tr>\n",
       "    <tr>\n",
       "      <th>std</th>\n",
       "      <td>14.110146</td>\n",
       "      <td>57.997698</td>\n",
       "      <td>0.857290</td>\n",
       "      <td>1.156520</td>\n",
       "      <td>1.022846</td>\n",
       "    </tr>\n",
       "    <tr>\n",
       "      <th>min</th>\n",
       "      <td>0.750000</td>\n",
       "      <td>6.750000</td>\n",
       "      <td>1.000000</td>\n",
       "      <td>0.000000</td>\n",
       "      <td>0.000000</td>\n",
       "    </tr>\n",
       "    <tr>\n",
       "      <th>25%</th>\n",
       "      <td>18.000000</td>\n",
       "      <td>12.071875</td>\n",
       "      <td>1.000000</td>\n",
       "      <td>0.000000</td>\n",
       "      <td>0.000000</td>\n",
       "    </tr>\n",
       "    <tr>\n",
       "      <th>50%</th>\n",
       "      <td>27.000000</td>\n",
       "      <td>23.000000</td>\n",
       "      <td>2.000000</td>\n",
       "      <td>0.000000</td>\n",
       "      <td>0.000000</td>\n",
       "    </tr>\n",
       "    <tr>\n",
       "      <th>75%</th>\n",
       "      <td>37.000000</td>\n",
       "      <td>55.000000</td>\n",
       "      <td>3.000000</td>\n",
       "      <td>1.000000</td>\n",
       "      <td>1.000000</td>\n",
       "    </tr>\n",
       "    <tr>\n",
       "      <th>max</th>\n",
       "      <td>63.000000</td>\n",
       "      <td>512.329200</td>\n",
       "      <td>3.000000</td>\n",
       "      <td>8.000000</td>\n",
       "      <td>6.000000</td>\n",
       "    </tr>\n",
       "  </tbody>\n",
       "</table>\n",
       "</div>"
      ],
      "text/plain": [
       "              Age        Fare      Pclass       SibSp       Parch\n",
       "count  261.000000  314.000000  314.000000  314.000000  314.000000\n",
       "mean    27.915709   44.479818    2.159236    0.694268    0.649682\n",
       "std     14.110146   57.997698    0.857290    1.156520    1.022846\n",
       "min      0.750000    6.750000    1.000000    0.000000    0.000000\n",
       "25%     18.000000   12.071875    1.000000    0.000000    0.000000\n",
       "50%     27.000000   23.000000    2.000000    0.000000    0.000000\n",
       "75%     37.000000   55.000000    3.000000    1.000000    1.000000\n",
       "max     63.000000  512.329200    3.000000    8.000000    6.000000"
      ]
     },
     "execution_count": 48,
     "metadata": {},
     "output_type": "execute_result"
    }
   ],
   "source": [
    "titanic[titanic[\"Sex\"]==\"female\"][describe_fields].describe()"
   ]
  },
  {
   "cell_type": "code",
   "execution_count": 187,
   "metadata": {},
   "outputs": [
    {
     "data": {
      "image/png": "[encoded data removed]",
      "text/plain": [
       "<matplotlib.figure.Figure at 0x139c1b38>"
      ]
     },
     "metadata": {},
     "output_type": "display_data"
    }
   ],
   "source": [
    "plt.figure(figsize=(6,4))\n",
    "mybars=plt.bar(x, titanic.groupby([\"Survived\"]).size(), align=\"center\",  edgecolor=\"dimgrey\", color=\"skyblue\")\n",
    "plt.xticks(x, (\"dead\", \"survived\"))\n",
    "plt.title(\"Survived distribution\")\n",
    "\n",
    "# удаляет обводки фигуры\n",
    "for spine in plt.gca().spines.values():\n",
    "    spine.set_visible(False)\n",
    "# удаляет все деления на осях, кроме нижних\n",
    "plt.tick_params(top='off', bottom='off', left='off', right='off', labelleft='off', labelbottom='on')\n",
    "# подписывает бары\n",
    "for bari in mybars:\n",
    "    height = bari.get_height()\n",
    "    plt.gca().text(bari.get_x() + bari.get_width()/2, bari.get_height()-25, str(int(height)),\n",
    "                 ha='center', color='black', fontsize=10)\n",
    "    \n"
   ]
  },
  {
   "cell_type": "code",
   "execution_count": 219,
   "metadata": {},
   "outputs": [],
   "source": [
    "def bar_plot(x, y, color=\"teal\", edgecolor=\"dimgrey\", title=None, color1=\"white\"):\n",
    "    position = np.arange(len(x))\n",
    "    plt.figure(figsize=(6,4))\n",
    "    mybars=plt.bar(position, y, align=\"center\",  edgecolor=edgecolor, color=color)\n",
    "    plt.xticks(position, x)\n",
    "    plt.title(title)\n",
    "    # удаляет обводки фигуры\n",
    "    for spine in plt.gca().spines.values():\n",
    "        spine.set_visible(False)\n",
    "# удаляет все деления на осях, кроме нижних\n",
    "    plt.tick_params(top='off', bottom='off', left='off', right='off', labelleft='off', labelbottom='on')\n",
    "# подписывает бары\n",
    "    for bari in mybars:\n",
    "        height = bari.get_height()\n",
    "        plt.gca().text(bari.get_x() + bari.get_width()/2, bari.get_height()-25, str(int(height)),\n",
    "                 ha='center', color=color1, fontsize=10)\n",
    "    "
   ]
  },
  {
   "cell_type": "code",
   "execution_count": 194,
   "metadata": {},
   "outputs": [
    {
     "data": {
      "image/png": "[encoded data removed]",
      "text/plain": [
       "<matplotlib.figure.Figure at 0x14bc90b8>"
      ]
     },
     "metadata": {},
     "output_type": "display_data"
    }
   ],
   "source": [
    "bar_plot(np.arange(2), titanic.groupby([\"Survived\"]).size())"
   ]
  },
  {
   "cell_type": "code",
   "execution_count": 189,
   "metadata": {},
   "outputs": [
    {
     "data": {
      "image/png": "[encoded data removed]",
      "text/plain": [
       "<matplotlib.figure.Figure at 0x138ea5f8>"
      ]
     },
     "metadata": {},
     "output_type": "display_data"
    }
   ],
   "source": [
    "fig, ax=plt.subplots()\n",
    "ax.axis('off')\n",
    "ax.yaxis.set_ticks_position ('left') \n",
    "ax.xaxis.set_ticks_position ('bottom')\n",
    "mybars=plt.bar(x, titanic.groupby([\"Survived\"]).size(), align=\"center\", color=\"skyblue\")\n",
    "plt.set_cmap(\"hot\")"
   ]
  },
  {
   "cell_type": "code",
   "execution_count": null,
   "metadata": {},
   "outputs": [],
   "source": []
  },
  {
   "cell_type": "code",
   "execution_count": 133,
   "metadata": {},
   "outputs": [
    {
     "data": {
      "image/png": "[encoded data removed]",
      "text/plain": [
       "<matplotlib.figure.Figure at 0x136565f8>"
      ]
     },
     "metadata": {},
     "output_type": "display_data"
    }
   ],
   "source": [
    "fig, ax=plt.subplots()\n",
    "ax.spines['top'].set_visible(False)\n",
    "ax.spines['right'].set_visible(False)\n",
    "ax.spines['bottom'].set_visible(False)\n",
    "ax.spines['left'].set_visible(False)\n",
    "mybars=plt.bar(x, titanic.groupby([\"Survived\"]).size(), align=\"center\", color=\"skyblue\")\n",
    "plt.tick_params(top='off', bottom='off', left='on', right='off', labelleft='off', labelbottom='on')"
   ]
  },
  {
   "cell_type": "code",
   "execution_count": 134,
   "metadata": {},
   "outputs": [],
   "source": [
    "#xvals = list('ABCDE')\n",
    "#yvals = np.array(range(1, 6))\n",
    "\n",
    "#position = np.arange(len(xvals))\n",
    "\n",
    "#mybars = plt.bar(position, yvals, align='center', linewidth=0)"
   ]
  },
  {
   "cell_type": "code",
   "execution_count": 213,
   "metadata": {},
   "outputs": [],
   "source": [
    "t1=titanic.groupby(\"Pclass\")[\"PassengerId\"].agg(\"count\").reset_index(\"Pclass\")"
   ]
  },
  {
   "cell_type": "code",
   "execution_count": 214,
   "metadata": {},
   "outputs": [
    {
     "data": {
      "text/html": [
       "<div>\n",
       "<style scoped>\n",
       "    .dataframe tbody tr th:only-of-type {\n",
       "        vertical-align: middle;\n",
       "    }\n",
       "\n",
       "    .dataframe tbody tr th {\n",
       "        vertical-align: top;\n",
       "    }\n",
       "\n",
       "    .dataframe thead th {\n",
       "        text-align: right;\n",
       "    }\n",
       "</style>\n",
       "<table border=\"1\" class=\"dataframe\">\n",
       "  <thead>\n",
       "    <tr style=\"text-align: right;\">\n",
       "      <th></th>\n",
       "      <th>Pclass</th>\n",
       "      <th>PassengerId</th>\n",
       "    </tr>\n",
       "  </thead>\n",
       "  <tbody>\n",
       "    <tr>\n",
       "      <th>0</th>\n",
       "      <td>1</td>\n",
       "      <td>216</td>\n",
       "    </tr>\n",
       "    <tr>\n",
       "      <th>1</th>\n",
       "      <td>2</td>\n",
       "      <td>184</td>\n",
       "    </tr>\n",
       "    <tr>\n",
       "      <th>2</th>\n",
       "      <td>3</td>\n",
       "      <td>491</td>\n",
       "    </tr>\n",
       "  </tbody>\n",
       "</table>\n",
       "</div>"
      ],
      "text/plain": [
       "   Pclass  PassengerId\n",
       "0       1          216\n",
       "1       2          184\n",
       "2       3          491"
      ]
     },
     "execution_count": 214,
     "metadata": {},
     "output_type": "execute_result"
    }
   ],
   "source": [
    "t1"
   ]
  },
  {
   "cell_type": "code",
   "execution_count": 220,
   "metadata": {},
   "outputs": [
    {
     "data": {
      "image/png": "[encoded data removed]",
      "text/plain": [
       "<matplotlib.figure.Figure at 0x10802978>"
      ]
     },
     "metadata": {},
     "output_type": "display_data"
    }
   ],
   "source": [
    "bar_plot(t1.iloc[:,0], t1.iloc[:,1], title=\"Distribution by class\")"
   ]
  },
  {
   "cell_type": "code",
   "execution_count": 223,
   "metadata": {},
   "outputs": [],
   "source": [
    "t2=titanic.groupby(\"Sex\")[\"PassengerId\"].agg(\"count\").reset_index()"
   ]
  },
  {
   "cell_type": "code",
   "execution_count": 224,
   "metadata": {},
   "outputs": [
    {
     "data": {
      "image/png": "[encoded data removed]",
      "text/plain": [
       "<matplotlib.figure.Figure at 0x13959d68>"
      ]
     },
     "metadata": {},
     "output_type": "display_data"
    }
   ],
   "source": [
    "bar_plot(t2.iloc[:,0], t2.iloc[:,1], title=\"Distribution by Sex\")"
   ]
  },
  {
   "cell_type": "code",
   "execution_count": 229,
   "metadata": {},
   "outputs": [],
   "source": [
    "t3=titanic.groupby(\"Age\")[\"PassengerId\"].agg(\"count\").reset_index()"
   ]
  },
  {
   "cell_type": "code",
   "execution_count": 249,
   "metadata": {},
   "outputs": [
    {
     "data": {
      "text/plain": [
       "(array([0.00776705, 0.00638007, 0.030236  , 0.03245516, 0.02052719,\n",
       "        0.01276015, 0.00804444, 0.00443831, 0.00249655, 0.00055479]),\n",
       " array([ 0.42 ,  8.378, 16.336, 24.294, 32.252, 40.21 , 48.168, 56.126,\n",
       "        64.084, 72.042, 80.   ]),\n",
       " <a list of 10 Patch objects>)"
      ]
     },
     "execution_count": 249,
     "metadata": {},
     "output_type": "execute_result"
    },
    {
     "data": {
      "image/png": "[encoded data removed]",
      "text/plain": [
       "<matplotlib.figure.Figure at 0x153069b0>"
      ]
     },
     "metadata": {},
     "output_type": "display_data"
    }
   ],
   "source": [
    "plt.hist(titanic[\"Age\"][titanic[\"Sex\"]==\"female\"].dropna(), bins=10, color=\"red\", alpha=0.7, normed=True)\n",
    "plt.hist(titanic[\"Age\"][titanic[\"Sex\"]==\"male\"].dropna(), bins=10, color=\"blue\", alpha=0.5, normed=True)"
   ]
  },
  {
   "cell_type": "code",
   "execution_count": 262,
   "metadata": {},
   "outputs": [
    {
     "data": {
      "image/png": "[encoded data removed]",
      "text/plain": [
       "<matplotlib.figure.Figure at 0x157e0be0>"
      ]
     },
     "metadata": {},
     "output_type": "display_data"
    }
   ],
   "source": [
    "mm=plt.hist(titanic[\"Fare\"].dropna())"
   ]
  },
  {
   "cell_type": "code",
   "execution_count": 260,
   "metadata": {},
   "outputs": [
    {
     "data": {
      "text/plain": [
       "<matplotlib.figure.Figure at 0x155e16d8>"
      ]
     },
     "execution_count": 260,
     "metadata": {},
     "output_type": "execute_result"
    },
    {
     "data": {
      "text/plain": [
       "<matplotlib.figure.Figure at 0x155e16d8>"
      ]
     },
     "metadata": {},
     "output_type": "display_data"
    }
   ],
   "source": [
    "\n",
    "plt.gcf()"
   ]
  },
  {
   "cell_type": "code",
   "execution_count": 263,
   "metadata": {},
   "outputs": [],
   "source": [
    "full[\"Embarked\"].fillna(\"S\", inplace=True)"
   ]
  },
  {
   "cell_type": "code",
   "execution_count": 267,
   "metadata": {},
   "outputs": [],
   "source": [
    "t4=titanic.groupby([\"Pclass\", 'Survived']).agg(\"size\")"
   ]
  },
  {
   "cell_type": "code",
   "execution_count": 272,
   "metadata": {},
   "outputs": [
    {
     "data": {
      "text/plain": [
       "<matplotlib.axes._subplots.AxesSubplot at 0x15a054a8>"
      ]
     },
     "execution_count": 272,
     "metadata": {},
     "output_type": "execute_result"
    },
    {
     "data": {
      "image/png": "[encoded data removed]",
      "text/plain": [
       "<matplotlib.figure.Figure at 0x1582b470>"
      ]
     },
     "metadata": {},
     "output_type": "display_data"
    }
   ],
   "source": [
    "sns.barplot(\"Pclass\", \"Survived\", data=titanic)\n"
   ]
  },
  {
   "cell_type": "code",
   "execution_count": 276,
   "metadata": {},
   "outputs": [
    {
     "data": {
      "text/plain": [
       "<matplotlib.axes._subplots.AxesSubplot at 0x15ba6400>"
      ]
     },
     "execution_count": 276,
     "metadata": {},
     "output_type": "execute_result"
    },
    {
     "data": {
      "image/png": "[encoded data removed]",
      "text/plain": [
       "<matplotlib.figure.Figure at 0x15ab83c8>"
      ]
     },
     "metadata": {},
     "output_type": "display_data"
    }
   ],
   "source": [
    "sns.countplot(titanic[\"Pclass\"], data=titanic[[\"Survived\", \"Pclass\"]], hue='Survived', palette=\"Blues_d\")"
   ]
  },
  {
   "cell_type": "code",
   "execution_count": 337,
   "metadata": {},
   "outputs": [
    {
     "name": "stdout",
     "output_type": "stream",
     "text": [
      "          Age      Cabin      Embarked      Fare      Name      Parch       \\\n",
      "Survived  0.0  1.0   0.0  1.0      0.0  1.0  0.0  1.0  0.0  1.0   0.0  1.0   \n",
      "Pclass                                                                       \n",
      "1          64  122    59  117       80  134   80  136   80  136    80  136   \n",
      "2          90   83     3   13       97   87   97   87   97   87    97   87   \n",
      "3         270   85     6    6      372  119  372  119  372  119   372  119   \n",
      "\n",
      "         PassengerId       Sex      SibSp      Ticket       \n",
      "Survived         0.0  1.0  0.0  1.0   0.0  1.0    0.0  1.0  \n",
      "Pclass                                                      \n",
      "1                 80  136   80  136    80  136     80  136  \n",
      "2                 97   87   97   87    97   87     97   87  \n",
      "3                372  119  372  119   372  119    372  119  \n"
     ]
    }
   ],
   "source": [
    "table=pd.DataFrame.pivot_table(titanic, index=\"Pclass\", columns='Survived',  aggfunc=\"count\")\n",
    "print(table)"
   ]
  },
  {
   "cell_type": "code",
   "execution_count": 287,
   "metadata": {},
   "outputs": [],
   "source": [
    "t5=titanic.groupby([\"Pclass\"])[\"Survived\"].value_counts(normalize=True)"
   ]
  },
  {
   "cell_type": "code",
   "execution_count": 289,
   "metadata": {},
   "outputs": [
    {
     "name": "stdout",
     "output_type": "stream",
     "text": [
      "Pclass  Survived\n",
      "1       1.0         0.629630\n",
      "        0.0         0.370370\n",
      "2       0.0         0.527174\n",
      "        1.0         0.472826\n",
      "3       0.0         0.757637\n",
      "        1.0         0.242363\n",
      "Name: Survived, dtype: float64\n",
      "(6,)\n"
     ]
    }
   ],
   "source": [
    "print(t5)\n",
    "print(t5.shape)"
   ]
  },
  {
   "cell_type": "code",
   "execution_count": 296,
   "metadata": {},
   "outputs": [
    {
     "data": {
      "text/plain": [
       "MultiIndex(levels=[[1, 2, 3], [0.0, 1.0]],\n",
       "           labels=[[0, 0, 1, 1, 2, 2], [1, 0, 0, 1, 0, 1]],\n",
       "           names=['Pclass', 'Survived'])"
      ]
     },
     "execution_count": 296,
     "metadata": {},
     "output_type": "execute_result"
    }
   ],
   "source": [
    "t5.index\n"
   ]
  },
  {
   "cell_type": "code",
   "execution_count": 316,
   "metadata": {},
   "outputs": [
    {
     "name": "stdout",
     "output_type": "stream",
     "text": [
      "Pclass          1         2         3\n",
      "Survived                             \n",
      "0.0       0.37037  0.527174  0.757637\n",
      "1.0       0.62963  0.472826  0.242363\n"
     ]
    }
   ],
   "source": [
    "print(t5.unstack(level=0))"
   ]
  },
  {
   "cell_type": "code",
   "execution_count": 317,
   "metadata": {},
   "outputs": [],
   "source": [
    "t6=t5.unstack(level=0)"
   ]
  },
  {
   "cell_type": "code",
   "execution_count": 318,
   "metadata": {},
   "outputs": [
    {
     "data": {
      "text/plain": [
       "Pclass  Survived\n",
       "1       0.0         0.370370\n",
       "        1.0         0.629630\n",
       "2       0.0         0.527174\n",
       "        1.0         0.472826\n",
       "3       0.0         0.757637\n",
       "        1.0         0.242363\n",
       "dtype: float64"
      ]
     },
     "execution_count": 318,
     "metadata": {},
     "output_type": "execute_result"
    }
   ],
   "source": [
    "t6.unstack(level=0)"
   ]
  },
  {
   "cell_type": "code",
   "execution_count": 324,
   "metadata": {},
   "outputs": [
    {
     "data": {
      "text/plain": [
       "<matplotlib.axes._subplots.AxesSubplot at 0xec90eb8>"
      ]
     },
     "execution_count": 324,
     "metadata": {},
     "output_type": "execute_result"
    },
    {
     "data": {
      "image/png": "[encoded data removed]",
      "text/plain": [
       "<matplotlib.figure.Figure at 0x10b99320>"
      ]
     },
     "metadata": {},
     "output_type": "display_data"
    }
   ],
   "source": [
    "t5.unstack().plot(kind='bar', stacked=False, color=[\"r\", \"b\"])"
   ]
  },
  {
   "cell_type": "code",
   "execution_count": 323,
   "metadata": {},
   "outputs": [
    {
     "data": {
      "text/plain": [
       "<matplotlib.axes._subplots.AxesSubplot at 0xd742160>"
      ]
     },
     "execution_count": 323,
     "metadata": {},
     "output_type": "execute_result"
    },
    {
     "data": {
      "image/png": "[encoded data removed]",
      "text/plain": [
       "<matplotlib.figure.Figure at 0x13a60e48>"
      ]
     },
     "metadata": {},
     "output_type": "display_data"
    }
   ],
   "source": [
    "t5.unstack().plot(kind='bar', stacked=True, color=[\"r\", \"b\"])\n"
   ]
  },
  {
   "cell_type": "code",
   "execution_count": null,
   "metadata": {},
   "outputs": [],
   "source": []
  },
  {
   "cell_type": "code",
   "execution_count": 342,
   "metadata": {},
   "outputs": [
    {
     "data": {
      "text/plain": [
       "<matplotlib.axes._subplots.AxesSubplot at 0x15947860>"
      ]
     },
     "execution_count": 342,
     "metadata": {},
     "output_type": "execute_result"
    },
    {
     "data": {
      "image/png": "[encoded data removed]",
      "text/plain": [
       "<matplotlib.figure.Figure at 0x15f61780>"
      ]
     },
     "metadata": {},
     "output_type": "display_data"
    }
   ],
   "source": [
    "s=titanic.groupby(['Pclass', 'Survived']).size()\n",
    "s.div(s.sum(level=0),level=0).unstack().plot(kind='bar', stacked=True)"
   ]
  },
  {
   "cell_type": "code",
   "execution_count": 365,
   "metadata": {},
   "outputs": [
    {
     "data": {
      "text/plain": [
       "<matplotlib.axes._subplots.AxesSubplot at 0x197bbb00>"
      ]
     },
     "execution_count": 365,
     "metadata": {},
     "output_type": "execute_result"
    },
    {
     "data": {
      "image/png": "[encoded data removed]",
      "text/plain": [
       "<matplotlib.figure.Figure at 0x17f17c18>"
      ]
     },
     "metadata": {},
     "output_type": "display_data"
    }
   ],
   "source": [
    "fig, axes = plt.subplots(1, 2, figsize=(20, 8), sharey=False)\n",
    "titanic.groupby(\"Sex\")[\"Survived\"].value_counts(normalize=True).unstack().plot(kind=\"bar\", stacked=True, ax=axes[0])\n",
    "\n",
    "titanic.groupby(\"Sex\")[\"Survived\"].value_counts(normalize=True).unstack().plot(kind=\"bar\", stacked=False, ax=axes[1])"
   ]
  },
  {
   "cell_type": "code",
   "execution_count": 350,
   "metadata": {},
   "outputs": [
    {
     "data": {
      "text/plain": [
       "<matplotlib.axes._subplots.AxesSubplot at 0x163b2b70>"
      ]
     },
     "execution_count": 350,
     "metadata": {},
     "output_type": "execute_result"
    },
    {
     "data": {
      "image/png": "[encoded data removed]",
      "text/plain": [
       "<matplotlib.figure.Figure at 0x1638ceb8>"
      ]
     },
     "metadata": {},
     "output_type": "display_data"
    }
   ],
   "source": [
    "\n",
    "titanic.groupby(\"Embarked\")[\"Survived\"].value_counts(normalize=True).unstack().plot(kind=\"bar\", stacked=True, color=[\"r\", \"g\"])"
   ]
  },
  {
   "cell_type": "code",
   "execution_count": 346,
   "metadata": {},
   "outputs": [
    {
     "data": {
      "text/plain": [
       "<matplotlib.axes._subplots.AxesSubplot at 0x162979b0>"
      ]
     },
     "execution_count": 346,
     "metadata": {},
     "output_type": "execute_result"
    },
    {
     "data": {
      "image/png": "[encoded data removed]",
      "text/plain": [
       "<matplotlib.figure.Figure at 0x162b56a0>"
      ]
     },
     "metadata": {},
     "output_type": "display_data"
    }
   ],
   "source": [
    "titanic.groupby(\"Embarked\")[\"Pclass\"].value_counts(normalize=True).unstack().plot(kind=\"bar\", stacked=True, color=[\"r\", \"g\", \"b\"])"
   ]
  },
  {
   "cell_type": "code",
   "execution_count": null,
   "metadata": {},
   "outputs": [],
   "source": []
  }
 ],
 "metadata": {
  "kernelspec": {
   "display_name": "Python 3",
   "language": "python",
   "name": "python3"
  },
  "language_info": {
   "codemirror_mode": {
    "name": "ipython",
    "version": 3
   },
   "file_extension": ".py",
   "mimetype": "text/x-python",
   "name": "python",
   "nbconvert_exporter": "python",
   "pygments_lexer": "ipython3",
   "version": "3.6.3"
  }
 },
 "nbformat": 4,
 "nbformat_minor": 2
}
